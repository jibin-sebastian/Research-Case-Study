{
 "cells": [
  {
   "cell_type": "code",
   "execution_count": null,
   "metadata": {
    "colab": {
     "base_uri": "https://localhost:8080/"
    },
    "id": "IUOtP_7-1-fL",
    "outputId": "f9ff3cfb-1326-4c29-f348-fa1e3fc22979"
   },
   "outputs": [
    {
     "name": "stdout",
     "output_type": "stream",
     "text": [
      "Collecting umap-learn\n",
      "  Downloading umap-learn-0.5.2.tar.gz (86 kB)\n",
      "\u001b[K     |████████████████████████████████| 86 kB 2.5 MB/s \n",
      "\u001b[?25hRequirement already satisfied: numpy>=1.17 in /usr/local/lib/python3.7/dist-packages (from umap-learn) (1.21.5)\n",
      "Requirement already satisfied: scikit-learn>=0.22 in /usr/local/lib/python3.7/dist-packages (from umap-learn) (1.0.2)\n",
      "Requirement already satisfied: scipy>=1.0 in /usr/local/lib/python3.7/dist-packages (from umap-learn) (1.4.1)\n",
      "Requirement already satisfied: numba>=0.49 in /usr/local/lib/python3.7/dist-packages (from umap-learn) (0.51.2)\n",
      "Collecting pynndescent>=0.5\n",
      "  Downloading pynndescent-0.5.6.tar.gz (1.1 MB)\n",
      "\u001b[K     |████████████████████████████████| 1.1 MB 18.9 MB/s \n",
      "\u001b[?25hRequirement already satisfied: tqdm in /usr/local/lib/python3.7/dist-packages (from umap-learn) (4.63.0)\n",
      "Requirement already satisfied: llvmlite<0.35,>=0.34.0.dev0 in /usr/local/lib/python3.7/dist-packages (from numba>=0.49->umap-learn) (0.34.0)\n",
      "Requirement already satisfied: setuptools in /usr/local/lib/python3.7/dist-packages (from numba>=0.49->umap-learn) (57.4.0)\n",
      "Requirement already satisfied: joblib>=0.11 in /usr/local/lib/python3.7/dist-packages (from pynndescent>=0.5->umap-learn) (1.1.0)\n",
      "Requirement already satisfied: threadpoolctl>=2.0.0 in /usr/local/lib/python3.7/dist-packages (from scikit-learn>=0.22->umap-learn) (3.1.0)\n",
      "Building wheels for collected packages: umap-learn, pynndescent\n",
      "  Building wheel for umap-learn (setup.py) ... \u001b[?25l\u001b[?25hdone\n",
      "  Created wheel for umap-learn: filename=umap_learn-0.5.2-py3-none-any.whl size=82708 sha256=dd51a3ac77a602e33da007b9e13a08db11b1b53bbc6e4eaba14990b9657758e7\n",
      "  Stored in directory: /root/.cache/pip/wheels/84/1b/c6/aaf68a748122632967cef4dffef68224eb16798b6793257d82\n",
      "  Building wheel for pynndescent (setup.py) ... \u001b[?25l\u001b[?25hdone\n",
      "  Created wheel for pynndescent: filename=pynndescent-0.5.6-py3-none-any.whl size=53943 sha256=548f55628d24c83ad4cead3ee25b59959defe2b5973ef079badfa4f02b48931e\n",
      "  Stored in directory: /root/.cache/pip/wheels/03/f1/56/f80d72741e400345b5a5b50ec3d929aca581bf45e0225d5c50\n",
      "Successfully built umap-learn pynndescent\n",
      "Installing collected packages: pynndescent, umap-learn\n",
      "Successfully installed pynndescent-0.5.6 umap-learn-0.5.2\n"
     ]
    }
   ],
   "source": [
    "pip install umap-learn"
   ]
  },
  {
   "cell_type": "code",
   "execution_count": null,
   "metadata": {
    "colab": {
     "base_uri": "https://localhost:8080/"
    },
    "id": "YxkdJQWip3Ap",
    "outputId": "1509920f-2ba6-4945-a022-b14e0a2b5a00"
   },
   "outputs": [
    {
     "name": "stdout",
     "output_type": "stream",
     "text": [
      "Requirement already satisfied: yellowbrick in /usr/local/lib/python3.7/dist-packages (1.4)\n",
      "Requirement already satisfied: scikit-learn>=1.0.0 in /usr/local/lib/python3.7/dist-packages (from yellowbrick) (1.0.2)\n",
      "Requirement already satisfied: matplotlib!=3.0.0,>=2.0.2 in /usr/local/lib/python3.7/dist-packages (from yellowbrick) (3.2.2)\n",
      "Requirement already satisfied: numpy>=1.16.0 in /usr/local/lib/python3.7/dist-packages (from yellowbrick) (1.21.5)\n",
      "Requirement already satisfied: scipy>=1.0.0 in /usr/local/lib/python3.7/dist-packages (from yellowbrick) (1.4.1)\n",
      "Requirement already satisfied: cycler>=0.10.0 in /usr/local/lib/python3.7/dist-packages (from yellowbrick) (0.11.0)\n",
      "Requirement already satisfied: python-dateutil>=2.1 in /usr/local/lib/python3.7/dist-packages (from matplotlib!=3.0.0,>=2.0.2->yellowbrick) (2.8.2)\n",
      "Requirement already satisfied: kiwisolver>=1.0.1 in /usr/local/lib/python3.7/dist-packages (from matplotlib!=3.0.0,>=2.0.2->yellowbrick) (1.3.2)\n",
      "Requirement already satisfied: pyparsing!=2.0.4,!=2.1.2,!=2.1.6,>=2.0.1 in /usr/local/lib/python3.7/dist-packages (from matplotlib!=3.0.0,>=2.0.2->yellowbrick) (3.0.7)\n",
      "Requirement already satisfied: six>=1.5 in /usr/local/lib/python3.7/dist-packages (from python-dateutil>=2.1->matplotlib!=3.0.0,>=2.0.2->yellowbrick) (1.15.0)\n",
      "Requirement already satisfied: joblib>=0.11 in /usr/local/lib/python3.7/dist-packages (from scikit-learn>=1.0.0->yellowbrick) (1.1.0)\n",
      "Requirement already satisfied: threadpoolctl>=2.0.0 in /usr/local/lib/python3.7/dist-packages (from scikit-learn>=1.0.0->yellowbrick) (3.1.0)\n"
     ]
    }
   ],
   "source": [
    "pip install -U yellowbrick"
   ]
  },
  {
   "cell_type": "code",
   "execution_count": null,
   "metadata": {
    "id": "vxqBujBoj95r"
   },
   "outputs": [],
   "source": [
    "import pandas as pd\n",
    "import numpy as np\n",
    "import seaborn as sns\n",
    "import matplotlib.pyplot as plt\n",
    "import plotly.express as px\n",
    "import missingno as msno\n",
    "import umap.umap_ as umap\n",
    "import matplotlib.pyplot as plt\n",
    "import seaborn as sns\n",
    "\n",
    "from yellowbrick.cluster import KElbowVisualizer\n",
    "from sklearn.cluster import KMeans\n",
    "from yellowbrick.cluster import SilhouetteVisualizer\n",
    "from sklearn.metrics import silhouette_score\n",
    "from sklearn.decomposition import PCA\n",
    "from datetime import datetime\n",
    "from google.colab import files\n",
    "from sklearn.cluster import KMeans\n",
    "from sklearn.cluster import AgglomerativeClustering\n",
    "#Gaussian misture, let's choose the proper number of clusters:\n",
    "from sklearn.mixture import GaussianMixture\n",
    "from sklearn import metrics"
   ]
  },
  {
   "cell_type": "code",
   "execution_count": null,
   "metadata": {
    "id": "YL_g8pycubXW"
   },
   "outputs": [],
   "source": [
    "#used to erase variable from colabnotebook\n",
    "#%reset_selective -f data\n",
    "data=pd.read_csv('/content/data.csv',delimiter=';' ,decimal=\",\")\n",
    "df_ID=data['pseudonym']\n"
   ]
  },
  {
   "cell_type": "code",
   "execution_count": null,
   "metadata": {
    "id": "Pabw2ZDmmEPt"
   },
   "outputs": [],
   "source": [
    "norm_data_final_corcut26=pd.read_csv('/content/norm_data_final_corcut26.csv',sep = '\\,', header = 0, engine = 'python')\n",
    "norm_data_final_corcut26.drop(['Unnamed: 0'],axis=1,inplace=True )"
   ]
  },
  {
   "cell_type": "code",
   "execution_count": null,
   "metadata": {
    "id": "aukyr4OUjth8"
   },
   "outputs": [],
   "source": [
    "#upload normalised dataset\n",
    "norm_df=pd.read_csv('/content/final_df_wo_corcut.csv',sep = '\\,', header = 0, engine = 'python')\n",
    "norm_df.drop(['Unnamed: 0'],axis=1,inplace=True )"
   ]
  },
  {
   "cell_type": "code",
   "execution_count": null,
   "metadata": {
    "colab": {
     "base_uri": "https://localhost:8080/"
    },
    "id": "eczwkB364YuA",
    "outputId": "93bf681a-c498-4fd3-b384-19f10f7741d8"
   },
   "outputs": [
    {
     "name": "stdout",
     "output_type": "stream",
     "text": [
      "<class 'pandas.core.frame.DataFrame'>\n",
      "RangeIndex: 42 entries, 0 to 41\n",
      "Columns: 149 entries, ageGroup to arrival_public transport\n",
      "dtypes: float64(128), int64(21)\n",
      "memory usage: 49.0 KB\n"
     ]
    }
   ],
   "source": [
    "norm_df.info()"
   ]
  },
  {
   "cell_type": "code",
   "execution_count": null,
   "metadata": {
    "colab": {
     "base_uri": "https://localhost:8080/"
    },
    "id": "FcTvDRHCmOzV",
    "outputId": "c92856fa-54bc-4b86-a57f-be73d980b3b5"
   },
   "outputs": [
    {
     "name": "stdout",
     "output_type": "stream",
     "text": [
      "{'Minimum_of_accelerometer_6mwt_split4_v2', 'hee_t4', 'Deviation_of_accelerometer_6mwt_split4_v3', 'Maximum_of_accelerometer_6mwt_split4_v3', 'Minimum_of_accelerometer_sct_split2_v3', 'Minimum_of_accelerometer_6mwt_split2_v3', 'amount_of_confidence_two_in_sct', 'Deviation_of_smartphone_6mwt', 'Minimum_of_accelerometer_6mwt_split3_v2', 'Deviation_of_accelerometer_6mwt_split2_v2', 'Deviation_of_accelerometer_6mwt_split3_v1', 'Maximum_of_accelerometer_6mwt_split3_v2', 'Deviation_of_accelerometer_6mwt_split2_v1', 'Minimum_of_accelerometer_6mwt_split4_v3', 'Maximum_of_accelerometer_6mwt_split4_v1', 'Maximum_of_accelerometer_6mwt_split2_v2', 'Deviation_of_accelerometer_6mwt_split4_v1', 'Deviation_of_accelerometer_6mwt_split1_v3', 'Deviation_of_accelerometer_6mwt_split2_v3', 'Deviation_of_accelerometer_6mwt_split3_v2', 'Deviation_of_accelerometer_6mwt_split3_v3', 'Minimum_of_accelerometer_6mwt_split3_v3', 'Deviation_of_accelerometer_6mwt_split4_v2', 'panas_neg_t4', 'Minimum_of_accelerometer_6mwt_split3_v1', 'Deviation_of_smartphone_sct'}\n"
     ]
    }
   ],
   "source": [
    "#Find the highly correlated features.\n",
    "#need to confirm weather these highly correlated features drop from data set\n",
    "correlated_features = set() #use set data structure for avoid duplicates\n",
    "correlation_matrix = norm_df.corr()\n",
    "for i in range(len(correlation_matrix .columns)):\n",
    "    for j in range(i):\n",
    "        if abs(correlation_matrix.iloc[i, j]) > 0.9:\n",
    "            colname = correlation_matrix.columns[i]\n",
    "            correlated_features.add(colname)\n",
    "print(correlated_features)"
   ]
  },
  {
   "cell_type": "code",
   "execution_count": null,
   "metadata": {
    "colab": {
     "base_uri": "https://localhost:8080/"
    },
    "id": "ZpZ65MpyivyU",
    "outputId": "6544ca9b-646f-4c4c-a0e2-f6b59eec2063"
   },
   "outputs": [
    {
     "name": "stdout",
     "output_type": "stream",
     "text": [
      "26\n"
     ]
    }
   ],
   "source": [
    "print(len(correlated_features))"
   ]
  },
  {
   "cell_type": "code",
   "execution_count": null,
   "metadata": {
    "id": "JgiDpO1a0vt5"
   },
   "outputs": [],
   "source": [
    "#drop highly correlated data\n",
    "norm_df.drop(['Deviation_of_accelerometer_6mwt_split2_v2', 'Minimum_of_accelerometer_6mwt_split3_v2', 'Minimum_of_accelerometer_6mwt_split4_v2', 'Deviation_of_accelerometer_6mwt_split3_v1', 'panas_neg_t4', 'Deviation_of_accelerometer_6mwt_split2_v1', 'amount_of_confidence_two_in_sct', 'Minimum_of_accelerometer_6mwt_split2_v3', 'Deviation_of_smartphone_sct', 'Minimum_of_accelerometer_6mwt_split4_v3', 'Deviation_of_accelerometer_6mwt_split3_v2', 'Minimum_of_accelerometer_6mwt_split3_v3', 'Deviation_of_accelerometer_6mwt_split1_v3', 'Maximum_of_accelerometer_6mwt_split3_v2', 'Deviation_of_accelerometer_6mwt_split4_v1', 'Deviation_of_accelerometer_6mwt_split4_v3', 'Deviation_of_accelerometer_6mwt_split3_v3', 'Minimum_of_accelerometer_6mwt_split3_v1', 'hee_t4', 'Minimum_of_accelerometer_sct_split2_v3', 'Deviation_of_smartphone_6mwt', 'Maximum_of_accelerometer_6mwt_split2_v2', 'Deviation_of_accelerometer_6mwt_split2_v3', 'Maximum_of_accelerometer_6mwt_split4_v3', 'Deviation_of_accelerometer_6mwt_split4_v2', 'Maximum_of_accelerometer_6mwt_split4_v1'],axis=1,inplace=True)\n"
   ]
  },
  {
   "cell_type": "markdown",
   "metadata": {
    "id": "9NMU5c0T1BXw"
   },
   "source": [
    "**Dimensionality reduction : UMAP**"
   ]
  },
  {
   "cell_type": "code",
   "execution_count": null,
   "metadata": {
    "colab": {
     "base_uri": "https://localhost:8080/",
     "height": 261
    },
    "id": "il5VBav71BB_",
    "outputId": "f89346a9-81dc-48be-ea09-90461d365c42"
   },
   "outputs": [
    {
     "name": "stderr",
     "output_type": "stream",
     "text": [
      "/usr/local/lib/python3.7/dist-packages/numba/np/ufunc/parallel.py:363: NumbaWarning: The TBB threading layer requires TBB version 2019.5 or later i.e., TBB_INTERFACE_VERSION >= 11005. Found TBB_INTERFACE_VERSION = 9107. The TBB threading layer is disabled.\n",
      "  warnings.warn(problem)\n"
     ]
    },
    {
     "data": {
      "text/html": [
       "\n",
       "  <div id=\"df-99fd7093-a644-4c4d-b5e6-722d2459dda1\">\n",
       "    <div class=\"colab-df-container\">\n",
       "      <div>\n",
       "<style scoped>\n",
       "    .dataframe tbody tr th:only-of-type {\n",
       "        vertical-align: middle;\n",
       "    }\n",
       "\n",
       "    .dataframe tbody tr th {\n",
       "        vertical-align: top;\n",
       "    }\n",
       "\n",
       "    .dataframe thead th {\n",
       "        text-align: right;\n",
       "    }\n",
       "</style>\n",
       "<table border=\"1\" class=\"dataframe\">\n",
       "  <thead>\n",
       "    <tr style=\"text-align: right;\">\n",
       "      <th></th>\n",
       "      <th>umap1</th>\n",
       "      <th>umap2</th>\n",
       "    </tr>\n",
       "  </thead>\n",
       "  <tbody>\n",
       "    <tr>\n",
       "      <th>0</th>\n",
       "      <td>15.295266</td>\n",
       "      <td>8.625645</td>\n",
       "    </tr>\n",
       "    <tr>\n",
       "      <th>1</th>\n",
       "      <td>16.257643</td>\n",
       "      <td>8.868095</td>\n",
       "    </tr>\n",
       "    <tr>\n",
       "      <th>2</th>\n",
       "      <td>14.085320</td>\n",
       "      <td>5.253630</td>\n",
       "    </tr>\n",
       "    <tr>\n",
       "      <th>3</th>\n",
       "      <td>16.320051</td>\n",
       "      <td>10.638216</td>\n",
       "    </tr>\n",
       "    <tr>\n",
       "      <th>4</th>\n",
       "      <td>14.381598</td>\n",
       "      <td>7.256986</td>\n",
       "    </tr>\n",
       "  </tbody>\n",
       "</table>\n",
       "</div>\n",
       "      <button class=\"colab-df-convert\" onclick=\"convertToInteractive('df-99fd7093-a644-4c4d-b5e6-722d2459dda1')\"\n",
       "              title=\"Convert this dataframe to an interactive table.\"\n",
       "              style=\"display:none;\">\n",
       "        \n",
       "  <svg xmlns=\"http://www.w3.org/2000/svg\" height=\"24px\"viewBox=\"0 0 24 24\"\n",
       "       width=\"24px\">\n",
       "    <path d=\"M0 0h24v24H0V0z\" fill=\"none\"/>\n",
       "    <path d=\"M18.56 5.44l.94 2.06.94-2.06 2.06-.94-2.06-.94-.94-2.06-.94 2.06-2.06.94zm-11 1L8.5 8.5l.94-2.06 2.06-.94-2.06-.94L8.5 2.5l-.94 2.06-2.06.94zm10 10l.94 2.06.94-2.06 2.06-.94-2.06-.94-.94-2.06-.94 2.06-2.06.94z\"/><path d=\"M17.41 7.96l-1.37-1.37c-.4-.4-.92-.59-1.43-.59-.52 0-1.04.2-1.43.59L10.3 9.45l-7.72 7.72c-.78.78-.78 2.05 0 2.83L4 21.41c.39.39.9.59 1.41.59.51 0 1.02-.2 1.41-.59l7.78-7.78 2.81-2.81c.8-.78.8-2.07 0-2.86zM5.41 20L4 18.59l7.72-7.72 1.47 1.35L5.41 20z\"/>\n",
       "  </svg>\n",
       "      </button>\n",
       "      \n",
       "  <style>\n",
       "    .colab-df-container {\n",
       "      display:flex;\n",
       "      flex-wrap:wrap;\n",
       "      gap: 12px;\n",
       "    }\n",
       "\n",
       "    .colab-df-convert {\n",
       "      background-color: #E8F0FE;\n",
       "      border: none;\n",
       "      border-radius: 50%;\n",
       "      cursor: pointer;\n",
       "      display: none;\n",
       "      fill: #1967D2;\n",
       "      height: 32px;\n",
       "      padding: 0 0 0 0;\n",
       "      width: 32px;\n",
       "    }\n",
       "\n",
       "    .colab-df-convert:hover {\n",
       "      background-color: #E2EBFA;\n",
       "      box-shadow: 0px 1px 2px rgba(60, 64, 67, 0.3), 0px 1px 3px 1px rgba(60, 64, 67, 0.15);\n",
       "      fill: #174EA6;\n",
       "    }\n",
       "\n",
       "    [theme=dark] .colab-df-convert {\n",
       "      background-color: #3B4455;\n",
       "      fill: #D2E3FC;\n",
       "    }\n",
       "\n",
       "    [theme=dark] .colab-df-convert:hover {\n",
       "      background-color: #434B5C;\n",
       "      box-shadow: 0px 1px 3px 1px rgba(0, 0, 0, 0.15);\n",
       "      filter: drop-shadow(0px 1px 2px rgba(0, 0, 0, 0.3));\n",
       "      fill: #FFFFFF;\n",
       "    }\n",
       "  </style>\n",
       "\n",
       "      <script>\n",
       "        const buttonEl =\n",
       "          document.querySelector('#df-99fd7093-a644-4c4d-b5e6-722d2459dda1 button.colab-df-convert');\n",
       "        buttonEl.style.display =\n",
       "          google.colab.kernel.accessAllowed ? 'block' : 'none';\n",
       "\n",
       "        async function convertToInteractive(key) {\n",
       "          const element = document.querySelector('#df-99fd7093-a644-4c4d-b5e6-722d2459dda1');\n",
       "          const dataTable =\n",
       "            await google.colab.kernel.invokeFunction('convertToInteractive',\n",
       "                                                     [key], {});\n",
       "          if (!dataTable) return;\n",
       "\n",
       "          const docLinkHtml = 'Like what you see? Visit the ' +\n",
       "            '<a target=\"_blank\" href=https://colab.research.google.com/notebooks/data_table.ipynb>data table notebook</a>'\n",
       "            + ' to learn more about interactive tables.';\n",
       "          element.innerHTML = '';\n",
       "          dataTable['output_type'] = 'display_data';\n",
       "          await google.colab.output.renderOutput(dataTable, element);\n",
       "          const docLink = document.createElement('div');\n",
       "          docLink.innerHTML = docLinkHtml;\n",
       "          element.appendChild(docLink);\n",
       "        }\n",
       "      </script>\n",
       "    </div>\n",
       "  </div>\n",
       "  "
      ],
      "text/plain": [
       "       umap1      umap2\n",
       "0  15.295266   8.625645\n",
       "1  16.257643   8.868095\n",
       "2  14.085320   5.253630\n",
       "3  16.320051  10.638216\n",
       "4  14.381598   7.256986"
      ]
     },
     "execution_count": 11,
     "metadata": {},
     "output_type": "execute_result"
    }
   ],
   "source": [
    "#import umap.umap_ as umap\n",
    "reducer = umap.UMAP()\n",
    "embedding = reducer.fit_transform(norm_df)\n",
    "df_umap=pd.DataFrame(data = embedding, columns =['umap1','umap2'])\n",
    "df_umap.head()"
   ]
  },
  {
   "cell_type": "code",
   "execution_count": null,
   "metadata": {
    "colab": {
     "base_uri": "https://localhost:8080/",
     "height": 393
    },
    "id": "0e27JA8a2aXI",
    "outputId": "99f6d47e-331c-49c8-9e38-524c671eb5b8"
   },
   "outputs": [
    {
     "data": {
      "image/png": "[encoded data removed]",
      "text/plain": [
       "<Figure size 576x396 with 2 Axes>"
      ]
     },
     "metadata": {},
     "output_type": "display_data"
    },
    {
     "data": {
      "text/plain": [
       "<matplotlib.axes._subplots.AxesSubplot at 0x7f69ede71290>"
      ]
     },
     "execution_count": 13,
     "metadata": {},
     "output_type": "execute_result"
    }
   ],
   "source": [
    "#set seed\n",
    "np.random.seed(0)\n",
    "#find the optimal number of clustering after dimensionality reduction using MDS:\n",
    "kmeans_model = KMeans()\n",
    "# k is range of number of clusters.\n",
    "visualizer = KElbowVisualizer(kmeans_model, k=(2,20), timings= True)\n",
    "visualizer.fit(df_umap)        # Fit data to visualizer\n",
    "visualizer.show() "
   ]
  },
  {
   "cell_type": "code",
   "execution_count": null,
   "metadata": {
    "colab": {
     "base_uri": "https://localhost:8080/",
     "height": 393
    },
    "id": "44at0ctj4-z_",
    "outputId": "1be6c3f1-3cc5-459a-ee3e-4e2c6c01547f"
   },
   "outputs": [
    {
     "data": {
      "image/png": "[encoded data removed]",
      "text/plain": [
       "<Figure size 576x396 with 2 Axes>"
      ]
     },
     "metadata": {},
     "output_type": "display_data"
    },
    {
     "data": {
      "text/plain": [
       "<matplotlib.axes._subplots.AxesSubplot at 0x7f69edf51850>"
      ]
     },
     "execution_count": 14,
     "metadata": {},
     "output_type": "execute_result"
    }
   ],
   "source": [
    "# Silhouette Score for K means\n",
    "# Import ElbowVisualizer\n",
    "#from yellowbrick.cluster import KElbowVisualizer\n",
    "mod1 = KMeans()\n",
    "# k is range of number of clusters.\n",
    "visualizer = KElbowVisualizer(mod1, k=(2,20),metric='silhouette', timings= True)\n",
    "visualizer.fit(df_umap)        # Fit the data to the visualizer\n",
    "visualizer.show()        # Finalize and render the figure"
   ]
  },
  {
   "cell_type": "code",
   "execution_count": null,
   "metadata": {
    "colab": {
     "base_uri": "https://localhost:8080/",
     "height": 393
    },
    "id": "PWhl9kk94-xi",
    "outputId": "add20de0-1318-4491-bc08-c52389cb1647"
   },
   "outputs": [
    {
     "data": {
      "text/plain": [
       "5"
      ]
     },
     "execution_count": 15,
     "metadata": {},
     "output_type": "execute_result"
    },
    {
     "data": {
      "image/png": "[encoded data removed]",
      "text/plain": [
       "<Figure size 576x396 with 1 Axes>"
      ]
     },
     "metadata": {},
     "output_type": "display_data"
    }
   ],
   "source": [
    "def optimalK(data, nrefs=3, maxClusters=20):\n",
    "    \"\"\"\n",
    "    Calculates KMeans optimal K using Gap Statistic \n",
    "    Params:\n",
    "        data: ndarry of shape (n_samples, n_features)\n",
    "        nrefs: number of sample reference datasets to create\n",
    "        maxClusters: Maximum number of clusters to test for\n",
    "    Returns: (gaps, optimalK)\n",
    "    \"\"\"\n",
    "    gaps = np.zeros((len(range(1, maxClusters)),))\n",
    "    resultsdf = pd.DataFrame({'clusterCount':[], 'gap':[]})\n",
    "    for gap_index, k in enumerate(range(1, maxClusters)):\n",
    "# Holder for reference dispersion results\n",
    "        refDisps = np.zeros(nrefs)\n",
    "# For n references, generate random sample and perform kmeans getting resulting dispersion of each loop\n",
    "        for i in range(nrefs):\n",
    "            \n",
    "            # Create new random reference set\n",
    "            randomReference = np.random.random_sample(size=data.shape)\n",
    "            \n",
    "            # Fit to it\n",
    "            km = KMeans(k)\n",
    "            km.fit(randomReference)\n",
    "            \n",
    "            refDisp = km.inertia_\n",
    "            refDisps[i] = refDisp\n",
    "# Fit cluster to original data and create dispersion\n",
    "        km = KMeans(k)\n",
    "        km.fit(data)\n",
    "        \n",
    "        origDisp = km.inertia_\n",
    "# Calculate gap statistic\n",
    "        gap = np.log(np.mean(refDisps)) - np.log(origDisp)\n",
    "# Assign this loop's gap statistic to gaps\n",
    "        gaps[gap_index] = gap\n",
    "        \n",
    "        resultsdf = resultsdf.append({'clusterCount':k, 'gap':gap}, ignore_index=True)\n",
    "    return (gaps.argmax() + 1, resultsdf)\n",
    "score_g, df = optimalK(df_umap, nrefs=3, maxClusters=20)\n",
    "\n",
    "plt.plot(df['clusterCount'], df['gap'], linestyle='--', marker='o', color='b');\n",
    "plt.xlabel('K');\n",
    "plt.ylabel('Gap Statistic');\n",
    "plt.title('Gap Statistic vs. K');\n",
    "score_g"
   ]
  },
  {
   "cell_type": "code",
   "execution_count": null,
   "metadata": {
    "colab": {
     "base_uri": "https://localhost:8080/",
     "height": 393
    },
    "id": "S7uoR9db4-u2",
    "outputId": "99f1bd70-5fa7-4896-d202-c865e3db09f0"
   },
   "outputs": [
    {
     "data": {
      "image/png": "[encoded data removed]",
      "text/plain": [
       "<Figure size 576x396 with 2 Axes>"
      ]
     },
     "metadata": {},
     "output_type": "display_data"
    },
    {
     "data": {
      "text/plain": [
       "<matplotlib.axes._subplots.AxesSubplot at 0x7f69ee3f8650>"
      ]
     },
     "execution_count": 16,
     "metadata": {},
     "output_type": "execute_result"
    }
   ],
   "source": [
    "# Calinski Harabasz Score for K means\n",
    "# Import ElbowVisualizer\n",
    "#from yellowbrick.cluster import KElbowVisualizer\n",
    "mod2 = KMeans()\n",
    "# k is range of number of clusters.\n",
    "visualizer = KElbowVisualizer(mod2, k=(2,20),metric='calinski_harabasz', timings= True)\n",
    "visualizer.fit(df_umap)        # Fit the data to the visualizer\n",
    "visualizer.show()"
   ]
  },
  {
   "cell_type": "code",
   "execution_count": null,
   "metadata": {
    "id": "cMlLFQLl6CZa"
   },
   "outputs": [],
   "source": [
    "#Apply Kmeans clustering algorithm\n",
    "kmeans = KMeans(2)\n",
    "#Apply kMeans on data\n",
    "kmeans.fit(df_umap)\n",
    "labels = kmeans.labels_ #label/ cluster associating to each data points\n",
    "#this is centroid of all clusters\n",
    "kmeans.cluster_centers_.shape\n",
    "#create a data frame having kmeans centroid and col of df1\n",
    "cluster_centers = pd.DataFrame(data = kmeans.cluster_centers_, columns = [df_umap.columns])\n",
    "#cluster_centers\n",
    "y_kmeans = kmeans.fit_predict(df_umap)\n",
    "#y_kmeans"
   ]
  },
  {
   "cell_type": "code",
   "execution_count": null,
   "metadata": {
    "colab": {
     "base_uri": "https://localhost:8080/",
     "height": 317
    },
    "id": "df7OS1sK6CXF",
    "outputId": "7a3dc3f3-24ab-45cd-e072-2d04ee270aee"
   },
   "outputs": [
    {
     "data": {
      "text/html": [
       "\n",
       "  <div id=\"df-2a51cae1-d78f-4ea6-8732-01c6d633f4df\">\n",
       "    <div class=\"colab-df-container\">\n",
       "      <div>\n",
       "<style scoped>\n",
       "    .dataframe tbody tr th:only-of-type {\n",
       "        vertical-align: middle;\n",
       "    }\n",
       "\n",
       "    .dataframe tbody tr th {\n",
       "        vertical-align: top;\n",
       "    }\n",
       "\n",
       "    .dataframe thead th {\n",
       "        text-align: right;\n",
       "    }\n",
       "</style>\n",
       "<table border=\"1\" class=\"dataframe\">\n",
       "  <thead>\n",
       "    <tr style=\"text-align: right;\">\n",
       "      <th></th>\n",
       "      <th>ageGroup</th>\n",
       "      <th>gender</th>\n",
       "      <th>bmi</th>\n",
       "      <th>smoker</th>\n",
       "      <th>employed</th>\n",
       "      <th>sports</th>\n",
       "      <th>timeOfDay</th>\n",
       "      <th>testSuit</th>\n",
       "      <th>firstTask</th>\n",
       "      <th>dist_6mwt</th>\n",
       "      <th>...</th>\n",
       "      <th>Minimum_of_accelerometer_sct_split2_v3</th>\n",
       "      <th>Deviation_of_accerometer_sct_split2_V3</th>\n",
       "      <th>swe_6mwtask_after</th>\n",
       "      <th>swe_6mwtask_before</th>\n",
       "      <th>swe_sctask_after</th>\n",
       "      <th>swe_sctask_before</th>\n",
       "      <th>arrival_car/motorcycle</th>\n",
       "      <th>arrival_on foot</th>\n",
       "      <th>arrival_public transport</th>\n",
       "      <th>cluster</th>\n",
       "    </tr>\n",
       "  </thead>\n",
       "  <tbody>\n",
       "    <tr>\n",
       "      <th>0</th>\n",
       "      <td>1</td>\n",
       "      <td>0</td>\n",
       "      <td>26.5</td>\n",
       "      <td>0</td>\n",
       "      <td>1</td>\n",
       "      <td>1</td>\n",
       "      <td>1</td>\n",
       "      <td>0</td>\n",
       "      <td>1</td>\n",
       "      <td>421.00</td>\n",
       "      <td>...</td>\n",
       "      <td>-0.742188</td>\n",
       "      <td>0.159058</td>\n",
       "      <td>9.5</td>\n",
       "      <td>9.5</td>\n",
       "      <td>8.5</td>\n",
       "      <td>9.00</td>\n",
       "      <td>0</td>\n",
       "      <td>0</td>\n",
       "      <td>1</td>\n",
       "      <td>0</td>\n",
       "    </tr>\n",
       "    <tr>\n",
       "      <th>1</th>\n",
       "      <td>0</td>\n",
       "      <td>1</td>\n",
       "      <td>25.5</td>\n",
       "      <td>0</td>\n",
       "      <td>1</td>\n",
       "      <td>0</td>\n",
       "      <td>0</td>\n",
       "      <td>1</td>\n",
       "      <td>0</td>\n",
       "      <td>600.00</td>\n",
       "      <td>...</td>\n",
       "      <td>-1.281250</td>\n",
       "      <td>0.232239</td>\n",
       "      <td>10.0</td>\n",
       "      <td>5.5</td>\n",
       "      <td>10.0</td>\n",
       "      <td>8.75</td>\n",
       "      <td>0</td>\n",
       "      <td>1</td>\n",
       "      <td>0</td>\n",
       "      <td>0</td>\n",
       "    </tr>\n",
       "    <tr>\n",
       "      <th>2</th>\n",
       "      <td>0</td>\n",
       "      <td>0</td>\n",
       "      <td>22.1</td>\n",
       "      <td>0</td>\n",
       "      <td>1</td>\n",
       "      <td>1</td>\n",
       "      <td>0</td>\n",
       "      <td>1</td>\n",
       "      <td>1</td>\n",
       "      <td>689.00</td>\n",
       "      <td>...</td>\n",
       "      <td>-1.832031</td>\n",
       "      <td>0.242459</td>\n",
       "      <td>10.0</td>\n",
       "      <td>9.5</td>\n",
       "      <td>10.0</td>\n",
       "      <td>9.00</td>\n",
       "      <td>1</td>\n",
       "      <td>0</td>\n",
       "      <td>0</td>\n",
       "      <td>1</td>\n",
       "    </tr>\n",
       "    <tr>\n",
       "      <th>3</th>\n",
       "      <td>1</td>\n",
       "      <td>1</td>\n",
       "      <td>22.1</td>\n",
       "      <td>0</td>\n",
       "      <td>1</td>\n",
       "      <td>1</td>\n",
       "      <td>0</td>\n",
       "      <td>1</td>\n",
       "      <td>0</td>\n",
       "      <td>654.55</td>\n",
       "      <td>...</td>\n",
       "      <td>-1.007812</td>\n",
       "      <td>0.209505</td>\n",
       "      <td>8.0</td>\n",
       "      <td>9.0</td>\n",
       "      <td>7.0</td>\n",
       "      <td>10.00</td>\n",
       "      <td>0</td>\n",
       "      <td>0</td>\n",
       "      <td>0</td>\n",
       "      <td>0</td>\n",
       "    </tr>\n",
       "    <tr>\n",
       "      <th>4</th>\n",
       "      <td>1</td>\n",
       "      <td>1</td>\n",
       "      <td>26.0</td>\n",
       "      <td>0</td>\n",
       "      <td>0</td>\n",
       "      <td>1</td>\n",
       "      <td>1</td>\n",
       "      <td>0</td>\n",
       "      <td>1</td>\n",
       "      <td>512.00</td>\n",
       "      <td>...</td>\n",
       "      <td>-1.648438</td>\n",
       "      <td>0.215718</td>\n",
       "      <td>10.0</td>\n",
       "      <td>8.5</td>\n",
       "      <td>6.5</td>\n",
       "      <td>4.50</td>\n",
       "      <td>1</td>\n",
       "      <td>0</td>\n",
       "      <td>0</td>\n",
       "      <td>1</td>\n",
       "    </tr>\n",
       "  </tbody>\n",
       "</table>\n",
       "<p>5 rows × 150 columns</p>\n",
       "</div>\n",
       "      <button class=\"colab-df-convert\" onclick=\"convertToInteractive('df-2a51cae1-d78f-4ea6-8732-01c6d633f4df')\"\n",
       "              title=\"Convert this dataframe to an interactive table.\"\n",
       "              style=\"display:none;\">\n",
       "        \n",
       "  <svg xmlns=\"http://www.w3.org/2000/svg\" height=\"24px\"viewBox=\"0 0 24 24\"\n",
       "       width=\"24px\">\n",
       "    <path d=\"M0 0h24v24H0V0z\" fill=\"none\"/>\n",
       "    <path d=\"M18.56 5.44l.94 2.06.94-2.06 2.06-.94-2.06-.94-.94-2.06-.94 2.06-2.06.94zm-11 1L8.5 8.5l.94-2.06 2.06-.94-2.06-.94L8.5 2.5l-.94 2.06-2.06.94zm10 10l.94 2.06.94-2.06 2.06-.94-2.06-.94-.94-2.06-.94 2.06-2.06.94z\"/><path d=\"M17.41 7.96l-1.37-1.37c-.4-.4-.92-.59-1.43-.59-.52 0-1.04.2-1.43.59L10.3 9.45l-7.72 7.72c-.78.78-.78 2.05 0 2.83L4 21.41c.39.39.9.59 1.41.59.51 0 1.02-.2 1.41-.59l7.78-7.78 2.81-2.81c.8-.78.8-2.07 0-2.86zM5.41 20L4 18.59l7.72-7.72 1.47 1.35L5.41 20z\"/>\n",
       "  </svg>\n",
       "      </button>\n",
       "      \n",
       "  <style>\n",
       "    .colab-df-container {\n",
       "      display:flex;\n",
       "      flex-wrap:wrap;\n",
       "      gap: 12px;\n",
       "    }\n",
       "\n",
       "    .colab-df-convert {\n",
       "      background-color: #E8F0FE;\n",
       "      border: none;\n",
       "      border-radius: 50%;\n",
       "      cursor: pointer;\n",
       "      display: none;\n",
       "      fill: #1967D2;\n",
       "      height: 32px;\n",
       "      padding: 0 0 0 0;\n",
       "      width: 32px;\n",
       "    }\n",
       "\n",
       "    .colab-df-convert:hover {\n",
       "      background-color: #E2EBFA;\n",
       "      box-shadow: 0px 1px 2px rgba(60, 64, 67, 0.3), 0px 1px 3px 1px rgba(60, 64, 67, 0.15);\n",
       "      fill: #174EA6;\n",
       "    }\n",
       "\n",
       "    [theme=dark] .colab-df-convert {\n",
       "      background-color: #3B4455;\n",
       "      fill: #D2E3FC;\n",
       "    }\n",
       "\n",
       "    [theme=dark] .colab-df-convert:hover {\n",
       "      background-color: #434B5C;\n",
       "      box-shadow: 0px 1px 3px 1px rgba(0, 0, 0, 0.15);\n",
       "      filter: drop-shadow(0px 1px 2px rgba(0, 0, 0, 0.3));\n",
       "      fill: #FFFFFF;\n",
       "    }\n",
       "  </style>\n",
       "\n",
       "      <script>\n",
       "        const buttonEl =\n",
       "          document.querySelector('#df-2a51cae1-d78f-4ea6-8732-01c6d633f4df button.colab-df-convert');\n",
       "        buttonEl.style.display =\n",
       "          google.colab.kernel.accessAllowed ? 'block' : 'none';\n",
       "\n",
       "        async function convertToInteractive(key) {\n",
       "          const element = document.querySelector('#df-2a51cae1-d78f-4ea6-8732-01c6d633f4df');\n",
       "          const dataTable =\n",
       "            await google.colab.kernel.invokeFunction('convertToInteractive',\n",
       "                                                     [key], {});\n",
       "          if (!dataTable) return;\n",
       "\n",
       "          const docLinkHtml = 'Like what you see? Visit the ' +\n",
       "            '<a target=\"_blank\" href=https://colab.research.google.com/notebooks/data_table.ipynb>data table notebook</a>'\n",
       "            + ' to learn more about interactive tables.';\n",
       "          element.innerHTML = '';\n",
       "          dataTable['output_type'] = 'display_data';\n",
       "          await google.colab.output.renderOutput(dataTable, element);\n",
       "          const docLink = document.createElement('div');\n",
       "          docLink.innerHTML = docLinkHtml;\n",
       "          element.appendChild(docLink);\n",
       "        }\n",
       "      </script>\n",
       "    </div>\n",
       "  </div>\n",
       "  "
      ],
      "text/plain": [
       "   ageGroup  gender   bmi  smoker  employed  sports  timeOfDay  testSuit  \\\n",
       "0         1       0  26.5       0         1       1          1         0   \n",
       "1         0       1  25.5       0         1       0          0         1   \n",
       "2         0       0  22.1       0         1       1          0         1   \n",
       "3         1       1  22.1       0         1       1          0         1   \n",
       "4         1       1  26.0       0         0       1          1         0   \n",
       "\n",
       "   firstTask  dist_6mwt  ...  Minimum_of_accelerometer_sct_split2_v3  \\\n",
       "0          1     421.00  ...                               -0.742188   \n",
       "1          0     600.00  ...                               -1.281250   \n",
       "2          1     689.00  ...                               -1.832031   \n",
       "3          0     654.55  ...                               -1.007812   \n",
       "4          1     512.00  ...                               -1.648438   \n",
       "\n",
       "   Deviation_of_accerometer_sct_split2_V3  swe_6mwtask_after  \\\n",
       "0                                0.159058                9.5   \n",
       "1                                0.232239               10.0   \n",
       "2                                0.242459               10.0   \n",
       "3                                0.209505                8.0   \n",
       "4                                0.215718               10.0   \n",
       "\n",
       "   swe_6mwtask_before  swe_sctask_after  swe_sctask_before  \\\n",
       "0                 9.5               8.5               9.00   \n",
       "1                 5.5              10.0               8.75   \n",
       "2                 9.5              10.0               9.00   \n",
       "3                 9.0               7.0              10.00   \n",
       "4                 8.5               6.5               4.50   \n",
       "\n",
       "   arrival_car/motorcycle  arrival_on foot  arrival_public transport  cluster  \n",
       "0                       0                0                         1        0  \n",
       "1                       0                1                         0        0  \n",
       "2                       1                0                         0        1  \n",
       "3                       0                0                         0        0  \n",
       "4                       1                0                         0        1  \n",
       "\n",
       "[5 rows x 150 columns]"
      ]
     },
     "execution_count": 18,
     "metadata": {},
     "output_type": "execute_result"
    }
   ],
   "source": [
    "# concatenate the clusters labels to our original dataframe(orignal_cleaned_data)\n",
    "orignal_cleaned_data=pd.read_csv('/content/final_df_wo_corcut.csv')\n",
    "orignal_cleaned_data.drop(['Unnamed: 0'],axis=1,inplace=True)\n",
    "df_cluster = pd.concat([orignal_cleaned_data, pd.DataFrame({'cluster':labels})], axis = 1)\n",
    "df_cluster.head()"
   ]
  },
  {
   "cell_type": "code",
   "execution_count": null,
   "metadata": {
    "colab": {
     "base_uri": "https://localhost:8080/"
    },
    "id": "rxJOQtB2pv1x",
    "outputId": "08ba7b77-1e0c-4e9e-e440-52b6a41efd80"
   },
   "outputs": [
    {
     "data": {
      "text/plain": [
       "ageGroup                                         NaN\n",
       "gender                                           NaN\n",
       "bmi                                              NaN\n",
       "smoker                                           NaN\n",
       "employed                                         NaN\n",
       "sports                                           NaN\n",
       "timeOfDay                                        NaN\n",
       "testSuit                                         NaN\n",
       "firstTask                                        NaN\n",
       "dist_6mwt                                        NaN\n",
       "dist_sct                                         NaN\n",
       "swe_b_t1                                         NaN\n",
       "swe_b_t4                                         NaN\n",
       "swe_m_t1                                         NaN\n",
       "swe_m_t4                                         NaN\n",
       "swe_f_t1                                         NaN\n",
       "swe_f_t4                                         NaN\n",
       "swe_a_t1                                         NaN\n",
       "swe_a_t4                                         NaN\n",
       "hee_t1                                           NaN\n",
       "hee_t4                                           NaN\n",
       "facts_t1                                         NaN\n",
       "facts_t4                                         NaN\n",
       "bsa_B                                            NaN\n",
       "bsa_F                                       -0.60543\n",
       "bsa_S                                            NaN\n",
       "abi_p_vig                                        NaN\n",
       "abi_p_kov                                        NaN\n",
       "wkv_a_t1                                         NaN\n",
       "wkv_a_t2                                         NaN\n",
       "wkv_a_t3                                         NaN\n",
       "wkv_a_t4                                         NaN\n",
       "wkv_b_t1                                         NaN\n",
       "wkv_b_t2                                         NaN\n",
       "wkv_b_t3                                         NaN\n",
       "wkv_b_t4                                         NaN\n",
       "wkv_g_t1                                         NaN\n",
       "wkv_g_t2                                         NaN\n",
       "wkv_g_t3                                         NaN\n",
       "wkv_g_t4                                         NaN\n",
       "wkv_t_t1                                         NaN\n",
       "wkv_t_t2                                         NaN\n",
       "wkv_t_t3                                         NaN\n",
       "wkv_t_t4                                         NaN\n",
       "mood_v_t1                                        NaN\n",
       "mood_v_t2                                        NaN\n",
       "mood_v_t3                                        NaN\n",
       "mood_v_t4                                        NaN\n",
       "mood_c_t1                                        NaN\n",
       "mood_c_t2                                        NaN\n",
       "mood_c_t3                                        NaN\n",
       "mood_c_t4                                        NaN\n",
       "mood_ea_t1                                       NaN\n",
       "mood_ea_t2                                       NaN\n",
       "mood_ea_t3                                       NaN\n",
       "mood_ea_t4                                       NaN\n",
       "panas_pos_t1                                     NaN\n",
       "panas_pos_t2                                     NaN\n",
       "panas_pos_t3                                     NaN\n",
       "panas_pos_t4                                     NaN\n",
       "panas_neg_t1                                     NaN\n",
       "panas_neg_t2                                     NaN\n",
       "panas_neg_t3                                     NaN\n",
       "panas_neg_t4                                     NaN\n",
       "borg_6mwt_pre                                    NaN\n",
       "borg_6mwt_post                                   NaN\n",
       "borg_sct_pre                                     NaN\n",
       "borg_sct_post                                    NaN\n",
       "Minimum_of_smartphone_6mwt                       NaN\n",
       "Maximum_of_smartphone_6mwt                       NaN\n",
       "Deviation_of_smartphone_6mwt                     NaN\n",
       "Minimum_of_smartphone_sct                        NaN\n",
       "Maximum_of_smartphone_sct                        NaN\n",
       "Deviation_of_smartphone_sct                      NaN\n",
       "Minimum_of_fitbit_6mwt                           NaN\n",
       "Maximum_of_fitbit_6mwt                           NaN\n",
       "Deviation_of_fitbit_6mwt                         NaN\n",
       "amount_of_confidence_zero_in_6mwt                NaN\n",
       "amount_of_confidence_one_in_6mwt                 NaN\n",
       "amount_of_confidence_two_in_6mwt                 NaN\n",
       "amount_of_confidence_three_in_6mwt               NaN\n",
       "Minimum_of_fitbit_sct                            NaN\n",
       "Maximum_of_fitbit_sct                            NaN\n",
       "Deviation_of_fitbit_sct                          NaN\n",
       "amount_of_confidence_zero_in_sct                 NaN\n",
       "amount_of_confidence_one_in_sct                  NaN\n",
       "amount_of_confidence_two_in_sct                  NaN\n",
       "amount_of_confidence_three_in_sct                NaN\n",
       "Maximum_of_accelerometer_6mwt_split1_v1          NaN\n",
       "Minimum_of_accelerometer_6mwt_split1_v1          NaN\n",
       "Deviation_of_accelerometer_6mwt_split1_v1        NaN\n",
       "Maximum_of_accelerometer_6mwt_split2_v1          NaN\n",
       "Minimum_of_accelerometer_6mwt_split2_v1          NaN\n",
       "Deviation_of_accelerometer_6mwt_split2_v1        NaN\n",
       "Maximum_of_accelerometer_6mwt_split3_v1          NaN\n",
       "Minimum_of_accelerometer_6mwt_split3_v1          NaN\n",
       "Deviation_of_accelerometer_6mwt_split3_v1        NaN\n",
       "Maximum_of_accelerometer_6mwt_split4_v1          NaN\n",
       "Minimum_of_accelerometer_6mwt_split4_v1          NaN\n",
       "Deviation_of_accelerometer_6mwt_split4_v1        NaN\n",
       "Maximum_of_accelerometer_6mwt_split1_v2          NaN\n",
       "Minimum_of_accelerometer_6mwt_split1_v2          NaN\n",
       "Deviation_of_accelerometer_6mwt_split1_v2        NaN\n",
       "Maximum_of_accelerometer_6mwt_split2_v2          NaN\n",
       "Minimum_of_accelerometer_6mwt_split2_v2          NaN\n",
       "Deviation_of_accelerometer_6mwt_split2_v2        NaN\n",
       "Maximum_of_accelerometer_6mwt_split3_v2          NaN\n",
       "Minimum_of_accelerometer_6mwt_split3_v2          NaN\n",
       "Deviation_of_accelerometer_6mwt_split3_v2        NaN\n",
       "Maximum_of_accelerometer_6mwt_split4_v2          NaN\n",
       "Minimum_of_accelerometer_6mwt_split4_v2          NaN\n",
       "Deviation_of_accelerometer_6mwt_split4_v2        NaN\n",
       "Maximum_of_accelerometer_6mwt_split1_v3          NaN\n",
       "Minimum_of_accelerometer_6mwt_split1_v3          NaN\n",
       "Deviation_of_accelerometer_6mwt_split1_v3        NaN\n",
       "Maximum_of_accelerometer_6mwt_split2_v3          NaN\n",
       "Minimum_of_accelerometer_6mwt_split2_v3          NaN\n",
       "Deviation_of_accelerometer_6mwt_split2_v3        NaN\n",
       "Maximum_of_accelerometer_6mwt_split3_v3          NaN\n",
       "Minimum_of_accelerometer_6mwt_split3_v3          NaN\n",
       "Deviation_of_accelerometer_6mwt_split3_v3        NaN\n",
       "Maximum_of_accelerometer_6mwt_split4_v3          NaN\n",
       "Minimum_of_accelerometer_6mwt_split4_v3          NaN\n",
       "Deviation_of_accelerometer_6mwt_split4_v3        NaN\n",
       "Maximum_of_accelerometer_sct_split1_v1           NaN\n",
       "Minimum_of_accelerometer_sct_split1_v1           NaN\n",
       "Deviation_of_accerometer_sct_split1_V1           NaN\n",
       "Maximum_of_accelerometer_sct_split2_v1           NaN\n",
       "Minimum_of_accelerometer_sct_split2_v1           NaN\n",
       "Deviation_of_accerometer_sct_split2_V1           NaN\n",
       "Maximum_of_accelerometer_sct_split1_v2           NaN\n",
       "Minimum_of_accelerometer_sct_split1_v2           NaN\n",
       "Deviation_of_accerometer_sct_split1_V2           NaN\n",
       "Maximum_of_accelerometer_sct_split2_v2           NaN\n",
       "Minimum_of_accelerometer_sct_split2_v2           NaN\n",
       "Deviation_of_accerometer_sct_split2_V2           NaN\n",
       "Maximum_of_accelerometer_sct_split1_v3           NaN\n",
       "Minimum_of_accelerometer_sct_split1_v3           NaN\n",
       "Deviation_of_accerometer_sct_split1_V3           NaN\n",
       "Maximum_of_accelerometer_sct_split2_v3           NaN\n",
       "Minimum_of_accelerometer_sct_split2_v3           NaN\n",
       "Deviation_of_accerometer_sct_split2_V3           NaN\n",
       "swe_6mwtask_after                                NaN\n",
       "swe_6mwtask_before                               NaN\n",
       "swe_sctask_after                                 NaN\n",
       "swe_sctask_before                                NaN\n",
       "arrival_car/motorcycle                           NaN\n",
       "arrival_on foot                                  NaN\n",
       "arrival_public transport                         NaN\n",
       "cluster                                      1.00000\n",
       "Name: cluster, dtype: float64"
      ]
     },
     "execution_count": 19,
     "metadata": {},
     "output_type": "execute_result"
    }
   ],
   "source": [
    "#Check correlation\n",
    "corr_table = df_cluster.corr(method='pearson')\n",
    "pd.set_option('display.max_rows', None, 'display.max_columns', None)\n",
    "corr_table[abs(corr_table) > 0.5]['cluster']"
   ]
  },
  {
   "cell_type": "code",
   "execution_count": null,
   "metadata": {
    "colab": {
     "base_uri": "https://localhost:8080/",
     "height": 606
    },
    "id": "YWSExmFu6CUl",
    "outputId": "97475ca5-9209-418f-b089-206988be44a1"
   },
   "outputs": [
    {
     "data": {
      "image/png": "[encoded data removed]",
      "text/plain": [
       "<Figure size 720x720 with 1 Axes>"
      ]
     },
     "metadata": {},
     "output_type": "display_data"
    }
   ],
   "source": [
    "# Concatenate the clusters labels to the dataframe(pca_df)\n",
    "df_umap_kmeans=pd.concat([df_umap,pd.DataFrame({'cluster':labels})], axis = 1)\n",
    "#visualize the clusters using principal components\n",
    "plt.figure(figsize=(10,10))\n",
    "ax = sns.scatterplot(x=\"umap1\", y=\"umap2\", hue = \"cluster\", data = df_umap_kmeans, palette =['red','green'])\n",
    "plt.show()"
   ]
  },
  {
   "cell_type": "markdown",
   "metadata": {
    "id": "kpnPVUPM7NsR"
   },
   "source": [
    "**Apply HAC Algorithm**"
   ]
  },
  {
   "cell_type": "code",
   "execution_count": null,
   "metadata": {
    "colab": {
     "base_uri": "https://localhost:8080/",
     "height": 442
    },
    "id": "m0emtszq7Bdy",
    "outputId": "7a91d5b3-6c5a-4779-9fd8-c7e20540f0ab"
   },
   "outputs": [
    {
     "data": {
      "image/png": "[encoded data removed]",
      "text/plain": [
       "<Figure size 720x504 with 1 Axes>"
      ]
     },
     "metadata": {},
     "output_type": "display_data"
    }
   ],
   "source": [
    "#implement heirarchical clustering. Used normalized data after dropping highly correlated variables\n",
    "import scipy.cluster.hierarchy as shc\n",
    "plt.figure(figsize=(10, 7))  \n",
    "plt.title(\"Dendrograms\")\n",
    "dend = shc.dendrogram(shc.linkage(norm_data_final_corcut26, method='ward'))"
   ]
  },
  {
   "cell_type": "code",
   "execution_count": null,
   "metadata": {
    "colab": {
     "base_uri": "https://localhost:8080/"
    },
    "id": "fm6mUt6W7LBn",
    "outputId": "d1d9350f-e878-4367-f2ec-2764d7023975"
   },
   "outputs": [
    {
     "name": "stdout",
     "output_type": "stream",
     "text": [
      "3\n"
     ]
    }
   ],
   "source": [
    "#based on colour , we can decide optimal number of cluster. Or draw a horizontal line over blue line find count of intercet points\n",
    "optimal_num_clusters=len(set(dend['color_list']))-1\n",
    "print(optimal_num_clusters)"
   ]
  },
  {
   "cell_type": "code",
   "execution_count": null,
   "metadata": {
    "id": "DlUyo_157K_W"
   },
   "outputs": [],
   "source": [
    "cluster = AgglomerativeClustering(n_clusters=3, affinity='euclidean', linkage='ward')  \n",
    "y_hc=cluster.fit_predict(df_umap)\n",
    "#0 represents the points that belong to the first cluster and 1 represents points in the second cluster."
   ]
  },
  {
   "cell_type": "code",
   "execution_count": null,
   "metadata": {
    "id": "ox7F_2Ge7K8f"
   },
   "outputs": [],
   "source": [
    "# Concatenate the clusters labels to the dataframe(pca_df)\n",
    "df_umap_cpy=df_umap.copy()\n",
    "df_umap_hac = pd.concat([df_umap_cpy,pd.DataFrame({'cluster_hac':y_hc})], axis = 1)"
   ]
  },
  {
   "cell_type": "code",
   "execution_count": null,
   "metadata": {
    "colab": {
     "base_uri": "https://localhost:8080/",
     "height": 206
    },
    "id": "UAjXytxg91y5",
    "outputId": "b3ce7638-1e5d-4ea0-a218-8ef8edc5fb17"
   },
   "outputs": [
    {
     "data": {
      "text/html": [
       "\n",
       "  <div id=\"df-0224d818-86c0-41fc-a9bf-c5c75cae1a99\">\n",
       "    <div class=\"colab-df-container\">\n",
       "      <div>\n",
       "<style scoped>\n",
       "    .dataframe tbody tr th:only-of-type {\n",
       "        vertical-align: middle;\n",
       "    }\n",
       "\n",
       "    .dataframe tbody tr th {\n",
       "        vertical-align: top;\n",
       "    }\n",
       "\n",
       "    .dataframe thead th {\n",
       "        text-align: right;\n",
       "    }\n",
       "</style>\n",
       "<table border=\"1\" class=\"dataframe\">\n",
       "  <thead>\n",
       "    <tr style=\"text-align: right;\">\n",
       "      <th></th>\n",
       "      <th>umap1</th>\n",
       "      <th>umap2</th>\n",
       "      <th>cluster_hac</th>\n",
       "    </tr>\n",
       "  </thead>\n",
       "  <tbody>\n",
       "    <tr>\n",
       "      <th>0</th>\n",
       "      <td>15.295266</td>\n",
       "      <td>8.625645</td>\n",
       "      <td>2</td>\n",
       "    </tr>\n",
       "    <tr>\n",
       "      <th>1</th>\n",
       "      <td>16.257643</td>\n",
       "      <td>8.868095</td>\n",
       "      <td>2</td>\n",
       "    </tr>\n",
       "    <tr>\n",
       "      <th>2</th>\n",
       "      <td>14.085320</td>\n",
       "      <td>5.253630</td>\n",
       "      <td>0</td>\n",
       "    </tr>\n",
       "    <tr>\n",
       "      <th>3</th>\n",
       "      <td>16.320051</td>\n",
       "      <td>10.638216</td>\n",
       "      <td>1</td>\n",
       "    </tr>\n",
       "    <tr>\n",
       "      <th>4</th>\n",
       "      <td>14.381598</td>\n",
       "      <td>7.256986</td>\n",
       "      <td>0</td>\n",
       "    </tr>\n",
       "  </tbody>\n",
       "</table>\n",
       "</div>\n",
       "      <button class=\"colab-df-convert\" onclick=\"convertToInteractive('df-0224d818-86c0-41fc-a9bf-c5c75cae1a99')\"\n",
       "              title=\"Convert this dataframe to an interactive table.\"\n",
       "              style=\"display:none;\">\n",
       "        \n",
       "  <svg xmlns=\"http://www.w3.org/2000/svg\" height=\"24px\"viewBox=\"0 0 24 24\"\n",
       "       width=\"24px\">\n",
       "    <path d=\"M0 0h24v24H0V0z\" fill=\"none\"/>\n",
       "    <path d=\"M18.56 5.44l.94 2.06.94-2.06 2.06-.94-2.06-.94-.94-2.06-.94 2.06-2.06.94zm-11 1L8.5 8.5l.94-2.06 2.06-.94-2.06-.94L8.5 2.5l-.94 2.06-2.06.94zm10 10l.94 2.06.94-2.06 2.06-.94-2.06-.94-.94-2.06-.94 2.06-2.06.94z\"/><path d=\"M17.41 7.96l-1.37-1.37c-.4-.4-.92-.59-1.43-.59-.52 0-1.04.2-1.43.59L10.3 9.45l-7.72 7.72c-.78.78-.78 2.05 0 2.83L4 21.41c.39.39.9.59 1.41.59.51 0 1.02-.2 1.41-.59l7.78-7.78 2.81-2.81c.8-.78.8-2.07 0-2.86zM5.41 20L4 18.59l7.72-7.72 1.47 1.35L5.41 20z\"/>\n",
       "  </svg>\n",
       "      </button>\n",
       "      \n",
       "  <style>\n",
       "    .colab-df-container {\n",
       "      display:flex;\n",
       "      flex-wrap:wrap;\n",
       "      gap: 12px;\n",
       "    }\n",
       "\n",
       "    .colab-df-convert {\n",
       "      background-color: #E8F0FE;\n",
       "      border: none;\n",
       "      border-radius: 50%;\n",
       "      cursor: pointer;\n",
       "      display: none;\n",
       "      fill: #1967D2;\n",
       "      height: 32px;\n",
       "      padding: 0 0 0 0;\n",
       "      width: 32px;\n",
       "    }\n",
       "\n",
       "    .colab-df-convert:hover {\n",
       "      background-color: #E2EBFA;\n",
       "      box-shadow: 0px 1px 2px rgba(60, 64, 67, 0.3), 0px 1px 3px 1px rgba(60, 64, 67, 0.15);\n",
       "      fill: #174EA6;\n",
       "    }\n",
       "\n",
       "    [theme=dark] .colab-df-convert {\n",
       "      background-color: #3B4455;\n",
       "      fill: #D2E3FC;\n",
       "    }\n",
       "\n",
       "    [theme=dark] .colab-df-convert:hover {\n",
       "      background-color: #434B5C;\n",
       "      box-shadow: 0px 1px 3px 1px rgba(0, 0, 0, 0.15);\n",
       "      filter: drop-shadow(0px 1px 2px rgba(0, 0, 0, 0.3));\n",
       "      fill: #FFFFFF;\n",
       "    }\n",
       "  </style>\n",
       "\n",
       "      <script>\n",
       "        const buttonEl =\n",
       "          document.querySelector('#df-0224d818-86c0-41fc-a9bf-c5c75cae1a99 button.colab-df-convert');\n",
       "        buttonEl.style.display =\n",
       "          google.colab.kernel.accessAllowed ? 'block' : 'none';\n",
       "\n",
       "        async function convertToInteractive(key) {\n",
       "          const element = document.querySelector('#df-0224d818-86c0-41fc-a9bf-c5c75cae1a99');\n",
       "          const dataTable =\n",
       "            await google.colab.kernel.invokeFunction('convertToInteractive',\n",
       "                                                     [key], {});\n",
       "          if (!dataTable) return;\n",
       "\n",
       "          const docLinkHtml = 'Like what you see? Visit the ' +\n",
       "            '<a target=\"_blank\" href=https://colab.research.google.com/notebooks/data_table.ipynb>data table notebook</a>'\n",
       "            + ' to learn more about interactive tables.';\n",
       "          element.innerHTML = '';\n",
       "          dataTable['output_type'] = 'display_data';\n",
       "          await google.colab.output.renderOutput(dataTable, element);\n",
       "          const docLink = document.createElement('div');\n",
       "          docLink.innerHTML = docLinkHtml;\n",
       "          element.appendChild(docLink);\n",
       "        }\n",
       "      </script>\n",
       "    </div>\n",
       "  </div>\n",
       "  "
      ],
      "text/plain": [
       "       umap1      umap2  cluster_hac\n",
       "0  15.295266   8.625645            2\n",
       "1  16.257643   8.868095            2\n",
       "2  14.085320   5.253630            0\n",
       "3  16.320051  10.638216            1\n",
       "4  14.381598   7.256986            0"
      ]
     },
     "execution_count": 25,
     "metadata": {},
     "output_type": "execute_result"
    }
   ],
   "source": [
    "df_umap_hac.head()"
   ]
  },
  {
   "cell_type": "code",
   "execution_count": null,
   "metadata": {
    "colab": {
     "base_uri": "https://localhost:8080/"
    },
    "id": "2aDOEcLOqWZn",
    "outputId": "a807d55c-3bc6-4024-fbcc-adb1eb791747"
   },
   "outputs": [
    {
     "data": {
      "text/plain": [
       "ageGroup                                     NaN\n",
       "gender                                       NaN\n",
       "bmi                                          NaN\n",
       "smoker                                       NaN\n",
       "employed                                     NaN\n",
       "sports                                       NaN\n",
       "timeOfDay                                    NaN\n",
       "testSuit                                     NaN\n",
       "firstTask                                    NaN\n",
       "dist_6mwt                                    NaN\n",
       "dist_sct                                     NaN\n",
       "swe_b_t1                                     NaN\n",
       "swe_b_t4                                     NaN\n",
       "swe_m_t1                                     NaN\n",
       "swe_m_t4                                     NaN\n",
       "swe_f_t1                                     NaN\n",
       "swe_f_t4                                     NaN\n",
       "swe_a_t1                                     NaN\n",
       "swe_a_t4                                     NaN\n",
       "hee_t1                                       NaN\n",
       "hee_t4                                       NaN\n",
       "facts_t1                                     NaN\n",
       "facts_t4                                     NaN\n",
       "bsa_B                                        NaN\n",
       "bsa_F                                        NaN\n",
       "bsa_S                                        NaN\n",
       "abi_p_vig                                    NaN\n",
       "abi_p_kov                                    NaN\n",
       "wkv_a_t1                                     NaN\n",
       "wkv_a_t2                                     NaN\n",
       "wkv_a_t3                                     NaN\n",
       "wkv_a_t4                                     NaN\n",
       "wkv_b_t1                                     NaN\n",
       "wkv_b_t2                                     NaN\n",
       "wkv_b_t3                                     NaN\n",
       "wkv_b_t4                                     NaN\n",
       "wkv_g_t1                                     NaN\n",
       "wkv_g_t2                                     NaN\n",
       "wkv_g_t3                                     NaN\n",
       "wkv_g_t4                                     NaN\n",
       "wkv_t_t1                                     NaN\n",
       "wkv_t_t2                                     NaN\n",
       "wkv_t_t3                                     NaN\n",
       "wkv_t_t4                                     NaN\n",
       "mood_v_t1                                    NaN\n",
       "mood_v_t2                                    NaN\n",
       "mood_v_t3                                    NaN\n",
       "mood_v_t4                                    NaN\n",
       "mood_c_t1                                    NaN\n",
       "mood_c_t2                                    NaN\n",
       "mood_c_t3                                    NaN\n",
       "mood_c_t4                                    NaN\n",
       "mood_ea_t1                                   NaN\n",
       "mood_ea_t2                                   NaN\n",
       "mood_ea_t3                                   NaN\n",
       "mood_ea_t4                                   NaN\n",
       "panas_pos_t1                                 NaN\n",
       "panas_pos_t2                                 NaN\n",
       "panas_pos_t3                                 NaN\n",
       "panas_pos_t4                                 NaN\n",
       "panas_neg_t1                                 NaN\n",
       "panas_neg_t2                                 NaN\n",
       "panas_neg_t3                                 NaN\n",
       "panas_neg_t4                                 NaN\n",
       "borg_6mwt_pre                                NaN\n",
       "borg_6mwt_post                               NaN\n",
       "borg_sct_pre                                 NaN\n",
       "borg_sct_post                                NaN\n",
       "Minimum_of_smartphone_6mwt                   NaN\n",
       "Maximum_of_smartphone_6mwt                   NaN\n",
       "Deviation_of_smartphone_6mwt                 NaN\n",
       "Minimum_of_smartphone_sct                    NaN\n",
       "Maximum_of_smartphone_sct                    NaN\n",
       "Deviation_of_smartphone_sct                  NaN\n",
       "Minimum_of_fitbit_6mwt                       NaN\n",
       "Maximum_of_fitbit_6mwt                       NaN\n",
       "Deviation_of_fitbit_6mwt                     NaN\n",
       "amount_of_confidence_zero_in_6mwt            NaN\n",
       "amount_of_confidence_one_in_6mwt             NaN\n",
       "amount_of_confidence_two_in_6mwt             NaN\n",
       "amount_of_confidence_three_in_6mwt           NaN\n",
       "Minimum_of_fitbit_sct                        NaN\n",
       "Maximum_of_fitbit_sct                        NaN\n",
       "Deviation_of_fitbit_sct                      NaN\n",
       "amount_of_confidence_zero_in_sct             NaN\n",
       "amount_of_confidence_one_in_sct              NaN\n",
       "amount_of_confidence_two_in_sct              NaN\n",
       "amount_of_confidence_three_in_sct            NaN\n",
       "Maximum_of_accelerometer_6mwt_split1_v1      NaN\n",
       "Minimum_of_accelerometer_6mwt_split1_v1      NaN\n",
       "Deviation_of_accelerometer_6mwt_split1_v1    NaN\n",
       "Maximum_of_accelerometer_6mwt_split2_v1      NaN\n",
       "Minimum_of_accelerometer_6mwt_split2_v1      NaN\n",
       "Deviation_of_accelerometer_6mwt_split2_v1    NaN\n",
       "Maximum_of_accelerometer_6mwt_split3_v1      NaN\n",
       "Minimum_of_accelerometer_6mwt_split3_v1      NaN\n",
       "Deviation_of_accelerometer_6mwt_split3_v1    NaN\n",
       "Maximum_of_accelerometer_6mwt_split4_v1      NaN\n",
       "Minimum_of_accelerometer_6mwt_split4_v1      NaN\n",
       "Deviation_of_accelerometer_6mwt_split4_v1    NaN\n",
       "Maximum_of_accelerometer_6mwt_split1_v2      NaN\n",
       "Minimum_of_accelerometer_6mwt_split1_v2      NaN\n",
       "Deviation_of_accelerometer_6mwt_split1_v2    NaN\n",
       "Maximum_of_accelerometer_6mwt_split2_v2      NaN\n",
       "Minimum_of_accelerometer_6mwt_split2_v2      NaN\n",
       "Deviation_of_accelerometer_6mwt_split2_v2    NaN\n",
       "Maximum_of_accelerometer_6mwt_split3_v2      NaN\n",
       "Minimum_of_accelerometer_6mwt_split3_v2      NaN\n",
       "Deviation_of_accelerometer_6mwt_split3_v2    NaN\n",
       "Maximum_of_accelerometer_6mwt_split4_v2      NaN\n",
       "Minimum_of_accelerometer_6mwt_split4_v2      NaN\n",
       "Deviation_of_accelerometer_6mwt_split4_v2    NaN\n",
       "Maximum_of_accelerometer_6mwt_split1_v3      NaN\n",
       "Minimum_of_accelerometer_6mwt_split1_v3      NaN\n",
       "Deviation_of_accelerometer_6mwt_split1_v3    NaN\n",
       "Maximum_of_accelerometer_6mwt_split2_v3      NaN\n",
       "Minimum_of_accelerometer_6mwt_split2_v3      NaN\n",
       "Deviation_of_accelerometer_6mwt_split2_v3    NaN\n",
       "Maximum_of_accelerometer_6mwt_split3_v3      NaN\n",
       "Minimum_of_accelerometer_6mwt_split3_v3      NaN\n",
       "Deviation_of_accelerometer_6mwt_split3_v3    NaN\n",
       "Maximum_of_accelerometer_6mwt_split4_v3      NaN\n",
       "Minimum_of_accelerometer_6mwt_split4_v3      NaN\n",
       "Deviation_of_accelerometer_6mwt_split4_v3    NaN\n",
       "Maximum_of_accelerometer_sct_split1_v1       NaN\n",
       "Minimum_of_accelerometer_sct_split1_v1       NaN\n",
       "Deviation_of_accerometer_sct_split1_V1       NaN\n",
       "Maximum_of_accelerometer_sct_split2_v1       NaN\n",
       "Minimum_of_accelerometer_sct_split2_v1       NaN\n",
       "Deviation_of_accerometer_sct_split2_V1       NaN\n",
       "Maximum_of_accelerometer_sct_split1_v2       NaN\n",
       "Minimum_of_accelerometer_sct_split1_v2       NaN\n",
       "Deviation_of_accerometer_sct_split1_V2       NaN\n",
       "Maximum_of_accelerometer_sct_split2_v2       NaN\n",
       "Minimum_of_accelerometer_sct_split2_v2       NaN\n",
       "Deviation_of_accerometer_sct_split2_V2       NaN\n",
       "Maximum_of_accelerometer_sct_split1_v3       NaN\n",
       "Minimum_of_accelerometer_sct_split1_v3       NaN\n",
       "Deviation_of_accerometer_sct_split1_V3       NaN\n",
       "Maximum_of_accelerometer_sct_split2_v3       NaN\n",
       "Minimum_of_accelerometer_sct_split2_v3       NaN\n",
       "Deviation_of_accerometer_sct_split2_V3       NaN\n",
       "swe_6mwtask_after                            NaN\n",
       "swe_6mwtask_before                           NaN\n",
       "swe_sctask_after                             NaN\n",
       "swe_sctask_before                            NaN\n",
       "arrival_car/motorcycle                       NaN\n",
       "arrival_on foot                              NaN\n",
       "arrival_public transport                     NaN\n",
       "cluster_hac                                  1.0\n",
       "Name: cluster_hac, dtype: float64"
      ]
     },
     "execution_count": 30,
     "metadata": {},
     "output_type": "execute_result"
    }
   ],
   "source": [
    "#Correlation check\n",
    "df_cluster.drop(['cluster_hac'], axis=1, inplace = True)\n",
    "df_cluster = pd.concat([df_cluster,pd.DataFrame({'cluster_hac':y_hc})], axis = 1)\n",
    "corr_table = df_cluster.corr(method='pearson')\n",
    "pd.set_option('display.max_rows', None, 'display.max_columns', None)\n",
    "corr_table[abs(corr_table) > 0.5]['cluster_hac']"
   ]
  },
  {
   "cell_type": "code",
   "execution_count": null,
   "metadata": {
    "colab": {
     "base_uri": "https://localhost:8080/",
     "height": 606
    },
    "id": "6KPU3XwK_Ikn",
    "outputId": "0d422503-7b5d-41b4-f0f3-e69d743cff18"
   },
   "outputs": [
    {
     "data": {
      "image/png": "[encoded data removed]",
      "text/plain": [
       "<Figure size 720x720 with 1 Axes>"
      ]
     },
     "metadata": {},
     "output_type": "display_data"
    }
   ],
   "source": [
    "plt.figure(figsize=(10,10))\n",
    "ax = sns.scatterplot(x=\"umap1\", y=\"umap2\", hue = \"cluster_hac\", data = df_umap_hac, palette =['red','green','blue'])\n",
    "plt.show()"
   ]
  },
  {
   "cell_type": "markdown",
   "metadata": {
    "id": "NKDqYlba_cPZ"
   },
   "source": [
    "**Apply DBSCAN Algorithm**"
   ]
  },
  {
   "cell_type": "code",
   "execution_count": null,
   "metadata": {
    "colab": {
     "base_uri": "https://localhost:8080/",
     "height": 365
    },
    "id": "p4Qb4ZZn_Ihv",
    "outputId": "e66f4b03-1dd8-4769-d3c1-58fa7ec3e7e9"
   },
   "outputs": [
    {
     "data": {
      "text/plain": [
       "[<matplotlib.lines.Line2D at 0x7f69ef7f38d0>]"
      ]
     },
     "execution_count": 32,
     "metadata": {},
     "output_type": "execute_result"
    },
    {
     "data": {
      "image/png": "[encoded data removed]",
      "text/plain": [
       "<Figure size 576x396 with 1 Axes>"
      ]
     },
     "metadata": {},
     "output_type": "display_data"
    }
   ],
   "source": [
    "#DBSCAN, let's find appropriate epsilon:\n",
    "from sklearn.cluster import DBSCAN\n",
    "from sklearn.neighbors import NearestNeighbors\n",
    "neigh = NearestNeighbors(n_neighbors=2)  #,metric='cosine'\n",
    "nbrs = neigh.fit(df_umap_cpy)\n",
    "distances, indices = nbrs.kneighbors(df_umap_cpy)\n",
    "#print(distances)\n",
    "distances = np.sort(distances, axis=0)\n",
    "#print('.........................')\n",
    "#print(distances)\n",
    "distances = distances[:,1]\n",
    "plt.plot(distances)"
   ]
  },
  {
   "cell_type": "code",
   "execution_count": null,
   "metadata": {
    "id": "guSpdsfSAr8I"
   },
   "outputs": [],
   "source": [
    "#print(distances)"
   ]
  },
  {
   "cell_type": "code",
   "execution_count": null,
   "metadata": {
    "colab": {
     "base_uri": "https://localhost:8080/",
     "height": 393
    },
    "id": "NkMLp9UQ_ZmF",
    "outputId": "654e4738-0b7d-4825-eced-4c58b8dce5e0"
   },
   "outputs": [
    {
     "data": {
      "text/plain": [
       "Text(0.5, 1.0, 'DBSCAN on UMAP')"
      ]
     },
     "execution_count": 35,
     "metadata": {},
     "output_type": "execute_result"
    },
    {
     "data": {
      "image/png": "[encoded data removed]",
      "text/plain": [
       "<Figure size 576x396 with 1 Axes>"
      ]
     },
     "metadata": {},
     "output_type": "display_data"
    }
   ],
   "source": [
    "db = DBSCAN(eps=0.5, min_samples=5).fit(df_umap_cpy)\n",
    "y_dbscan=db.labels_\n",
    "df_umap_dbscan = pd.concat([df_umap_cpy,pd.DataFrame({'cluster_dbscan':y_dbscan})], axis = 1)\n",
    "a = sns.scatterplot(x='umap1', y='umap2', hue = 'cluster_dbscan', data = df_umap_dbscan, palette = 'rainbow')\n",
    "a.set_title('DBSCAN on UMAP')"
   ]
  },
  {
   "cell_type": "code",
   "execution_count": null,
   "metadata": {
    "id": "wOes5UReH-R4"
   },
   "outputs": [],
   "source": [
    "#not getting clustering while using DBSCAN algorithm when eps =0.49"
   ]
  },
  {
   "cell_type": "markdown",
   "metadata": {
    "id": "c8L5kYSpJM5G"
   },
   "source": [
    "**Apply Gaussian misture clustering**"
   ]
  },
  {
   "cell_type": "code",
   "execution_count": null,
   "metadata": {
    "colab": {
     "base_uri": "https://localhost:8080/"
    },
    "id": "qclKgSD5_Zjg",
    "outputId": "1924b784-cb0e-4fb9-e2d4-94393ac90f34"
   },
   "outputs": [
    {
     "name": "stdout",
     "output_type": "stream",
     "text": [
      "2 0.6196716577589065\n",
      "3 0.5423876877301905\n",
      "4 0.466026552313261\n",
      "5 0.6197235326869663\n",
      "6 0.631319690314174\n",
      "7 0.6798519786812325\n",
      "8 0.6942948318126323\n",
      "9 0.6768229638789183\n",
      "10 0.672938117215512\n"
     ]
    }
   ],
   "source": [
    "#Gaussian misture, let's choose the proper number of clusters:\n",
    "from sklearn.mixture import GaussianMixture\n",
    "from sklearn import metrics\n",
    "for i in range(2, 11):\n",
    "    gmm = GaussianMixture(n_components=i).fit(df_umap_cpy)\n",
    "    df_umap_cpy['Cluster'] = gmm.predict(df_umap_cpy)\n",
    "    d = metrics.silhouette_score(df_umap_cpy, df_umap_cpy['Cluster'], metric='euclidean')\n",
    "    print(i, d)"
   ]
  },
  {
   "cell_type": "code",
   "execution_count": null,
   "metadata": {
    "id": "R1Bd-wU-KNTU"
   },
   "outputs": [],
   "source": [
    "#df_umap_cpy.head()"
   ]
  },
  {
   "cell_type": "code",
   "execution_count": null,
   "metadata": {
    "colab": {
     "base_uri": "https://localhost:8080/",
     "height": 393
    },
    "id": "D56uXaau91wd",
    "outputId": "26b47eda-02df-4db2-aad3-a69ae5aeb093"
   },
   "outputs": [
    {
     "data": {
      "text/plain": [
       "Text(0.5, 1.0, 'Gaussian mixture on UMAP')"
      ]
     },
     "execution_count": 37,
     "metadata": {},
     "output_type": "execute_result"
    },
    {
     "data": {
      "image/png": "[encoded data removed]",
      "text/plain": [
       "<Figure size 576x396 with 1 Axes>"
      ]
     },
     "metadata": {},
     "output_type": "display_data"
    }
   ],
   "source": [
    "#df_umap_cpy.drop(['Cluster'], axis = 1,inplace=True)\n",
    "gmm = GaussianMixture(n_components=2)\n",
    "gmm.fit(df_umap_cpy)\n",
    "df_umap_cpy['Cluster_gmm'] = gmm.predict(df_umap_cpy)\n",
    "ax = sns.scatterplot(x='umap1', y='umap2', hue = 'Cluster_gmm', data = df_umap_cpy, palette = 'rainbow')\n",
    "ax.set_title('Gaussian mixture on UMAP')"
   ]
  },
  {
   "cell_type": "code",
   "execution_count": null,
   "metadata": {
    "colab": {
     "base_uri": "https://localhost:8080/"
    },
    "id": "b21R6LxTsHIb",
    "outputId": "9ca656d1-ee92-47cc-d578-fafea5aabb63"
   },
   "outputs": [
    {
     "data": {
      "text/plain": [
       "ageGroup                                     NaN\n",
       "gender                                       NaN\n",
       "bmi                                          NaN\n",
       "smoker                                       NaN\n",
       "employed                                     NaN\n",
       "sports                                       NaN\n",
       "timeOfDay                                    NaN\n",
       "testSuit                                     NaN\n",
       "firstTask                                    NaN\n",
       "dist_6mwt                                    NaN\n",
       "dist_sct                                     NaN\n",
       "swe_b_t1                                     NaN\n",
       "swe_b_t4                                     NaN\n",
       "swe_m_t1                                     NaN\n",
       "swe_m_t4                                     NaN\n",
       "swe_f_t1                                     NaN\n",
       "swe_f_t4                                     NaN\n",
       "swe_a_t1                                     NaN\n",
       "swe_a_t4                                     NaN\n",
       "hee_t1                                       NaN\n",
       "hee_t4                                       NaN\n",
       "facts_t1                                     NaN\n",
       "facts_t4                                     NaN\n",
       "bsa_B                                        NaN\n",
       "bsa_F                                        NaN\n",
       "bsa_S                                        NaN\n",
       "abi_p_vig                                    NaN\n",
       "abi_p_kov                                    NaN\n",
       "wkv_a_t1                                     NaN\n",
       "wkv_a_t2                                     NaN\n",
       "wkv_a_t3                                     NaN\n",
       "wkv_a_t4                                     NaN\n",
       "wkv_b_t1                                     NaN\n",
       "wkv_b_t2                                     NaN\n",
       "wkv_b_t3                                     NaN\n",
       "wkv_b_t4                                     NaN\n",
       "wkv_g_t1                                     NaN\n",
       "wkv_g_t2                                     NaN\n",
       "wkv_g_t3                                     NaN\n",
       "wkv_g_t4                                     NaN\n",
       "wkv_t_t1                                     NaN\n",
       "wkv_t_t2                                     NaN\n",
       "wkv_t_t3                                     NaN\n",
       "wkv_t_t4                                     NaN\n",
       "mood_v_t1                                    NaN\n",
       "mood_v_t2                                    NaN\n",
       "mood_v_t3                                    NaN\n",
       "mood_v_t4                                    NaN\n",
       "mood_c_t1                                    NaN\n",
       "mood_c_t2                                    NaN\n",
       "mood_c_t3                                    NaN\n",
       "mood_c_t4                                    NaN\n",
       "mood_ea_t1                                   NaN\n",
       "mood_ea_t2                                   NaN\n",
       "mood_ea_t3                                   NaN\n",
       "mood_ea_t4                                   NaN\n",
       "panas_pos_t1                                 NaN\n",
       "panas_pos_t2                                 NaN\n",
       "panas_pos_t3                                 NaN\n",
       "panas_pos_t4                                 NaN\n",
       "panas_neg_t1                                 NaN\n",
       "panas_neg_t2                                 NaN\n",
       "panas_neg_t3                                 NaN\n",
       "panas_neg_t4                                 NaN\n",
       "borg_6mwt_pre                                NaN\n",
       "borg_6mwt_post                               NaN\n",
       "borg_sct_pre                                 NaN\n",
       "borg_sct_post                                NaN\n",
       "Minimum_of_smartphone_6mwt                   NaN\n",
       "Maximum_of_smartphone_6mwt                   NaN\n",
       "Deviation_of_smartphone_6mwt                 NaN\n",
       "Minimum_of_smartphone_sct                    NaN\n",
       "Maximum_of_smartphone_sct                    NaN\n",
       "Deviation_of_smartphone_sct                  NaN\n",
       "Minimum_of_fitbit_6mwt                       NaN\n",
       "Maximum_of_fitbit_6mwt                       NaN\n",
       "Deviation_of_fitbit_6mwt                     NaN\n",
       "amount_of_confidence_zero_in_6mwt            NaN\n",
       "amount_of_confidence_one_in_6mwt             NaN\n",
       "amount_of_confidence_two_in_6mwt             NaN\n",
       "amount_of_confidence_three_in_6mwt           NaN\n",
       "Minimum_of_fitbit_sct                        NaN\n",
       "Maximum_of_fitbit_sct                        NaN\n",
       "Deviation_of_fitbit_sct                      NaN\n",
       "amount_of_confidence_zero_in_sct             NaN\n",
       "amount_of_confidence_one_in_sct              NaN\n",
       "amount_of_confidence_two_in_sct              NaN\n",
       "amount_of_confidence_three_in_sct            NaN\n",
       "Maximum_of_accelerometer_6mwt_split1_v1      NaN\n",
       "Minimum_of_accelerometer_6mwt_split1_v1      NaN\n",
       "Deviation_of_accelerometer_6mwt_split1_v1    NaN\n",
       "Maximum_of_accelerometer_6mwt_split2_v1      NaN\n",
       "Minimum_of_accelerometer_6mwt_split2_v1      NaN\n",
       "Deviation_of_accelerometer_6mwt_split2_v1    NaN\n",
       "Maximum_of_accelerometer_6mwt_split3_v1      NaN\n",
       "Minimum_of_accelerometer_6mwt_split3_v1      NaN\n",
       "Deviation_of_accelerometer_6mwt_split3_v1    NaN\n",
       "Maximum_of_accelerometer_6mwt_split4_v1      NaN\n",
       "Minimum_of_accelerometer_6mwt_split4_v1      NaN\n",
       "Deviation_of_accelerometer_6mwt_split4_v1    NaN\n",
       "Maximum_of_accelerometer_6mwt_split1_v2      NaN\n",
       "Minimum_of_accelerometer_6mwt_split1_v2      NaN\n",
       "Deviation_of_accelerometer_6mwt_split1_v2    NaN\n",
       "Maximum_of_accelerometer_6mwt_split2_v2      NaN\n",
       "Minimum_of_accelerometer_6mwt_split2_v2      NaN\n",
       "Deviation_of_accelerometer_6mwt_split2_v2    NaN\n",
       "Maximum_of_accelerometer_6mwt_split3_v2      NaN\n",
       "Minimum_of_accelerometer_6mwt_split3_v2      NaN\n",
       "Deviation_of_accelerometer_6mwt_split3_v2    NaN\n",
       "Maximum_of_accelerometer_6mwt_split4_v2      NaN\n",
       "Minimum_of_accelerometer_6mwt_split4_v2      NaN\n",
       "Deviation_of_accelerometer_6mwt_split4_v2    NaN\n",
       "Maximum_of_accelerometer_6mwt_split1_v3      NaN\n",
       "Minimum_of_accelerometer_6mwt_split1_v3      NaN\n",
       "Deviation_of_accelerometer_6mwt_split1_v3    NaN\n",
       "Maximum_of_accelerometer_6mwt_split2_v3      NaN\n",
       "Minimum_of_accelerometer_6mwt_split2_v3      NaN\n",
       "Deviation_of_accelerometer_6mwt_split2_v3    NaN\n",
       "Maximum_of_accelerometer_6mwt_split3_v3      NaN\n",
       "Minimum_of_accelerometer_6mwt_split3_v3      NaN\n",
       "Deviation_of_accelerometer_6mwt_split3_v3    NaN\n",
       "Maximum_of_accelerometer_6mwt_split4_v3      NaN\n",
       "Minimum_of_accelerometer_6mwt_split4_v3      NaN\n",
       "Deviation_of_accelerometer_6mwt_split4_v3    NaN\n",
       "Maximum_of_accelerometer_sct_split1_v1       NaN\n",
       "Minimum_of_accelerometer_sct_split1_v1       NaN\n",
       "Deviation_of_accerometer_sct_split1_V1       NaN\n",
       "Maximum_of_accelerometer_sct_split2_v1       NaN\n",
       "Minimum_of_accelerometer_sct_split2_v1       NaN\n",
       "Deviation_of_accerometer_sct_split2_V1       NaN\n",
       "Maximum_of_accelerometer_sct_split1_v2       NaN\n",
       "Minimum_of_accelerometer_sct_split1_v2       NaN\n",
       "Deviation_of_accerometer_sct_split1_V2       NaN\n",
       "Maximum_of_accelerometer_sct_split2_v2       NaN\n",
       "Minimum_of_accelerometer_sct_split2_v2       NaN\n",
       "Deviation_of_accerometer_sct_split2_V2       NaN\n",
       "Maximum_of_accelerometer_sct_split1_v3       NaN\n",
       "Minimum_of_accelerometer_sct_split1_v3       NaN\n",
       "Deviation_of_accerometer_sct_split1_V3       NaN\n",
       "Maximum_of_accelerometer_sct_split2_v3       NaN\n",
       "Minimum_of_accelerometer_sct_split2_v3       NaN\n",
       "Deviation_of_accerometer_sct_split2_V3       NaN\n",
       "swe_6mwtask_after                            NaN\n",
       "swe_6mwtask_before                           NaN\n",
       "swe_sctask_after                             NaN\n",
       "swe_sctask_before                            NaN\n",
       "arrival_car/motorcycle                       NaN\n",
       "arrival_on foot                              NaN\n",
       "arrival_public transport                     NaN\n",
       "Cluster_gmm                                  1.0\n",
       "Name: Cluster_gmm, dtype: float64"
      ]
     },
     "execution_count": 38,
     "metadata": {},
     "output_type": "execute_result"
    }
   ],
   "source": [
    "#Correlation check\n",
    "df_cluster.drop(['cluster_hac'], axis = 1, inplace = True)\n",
    "df_cluster = pd.concat([df_cluster, pd.DataFrame(df_umap_cpy['Cluster_gmm'])], axis = 1)\n",
    "\n",
    "corr_table = df_cluster.corr(method='pearson')\n",
    "pd.set_option('display.max_rows', None, 'display.max_columns', None)\n",
    "corr_table[abs(corr_table) > 0.5]['Cluster_gmm']"
   ]
  },
  {
   "cell_type": "code",
   "execution_count": null,
   "metadata": {
    "id": "kP0XZszoJiaV"
   },
   "outputs": [],
   "source": [
    "cluster_assigned= pd.concat([df_ID,pd.DataFrame({'cluster_UMAP_KMeans':labels}),\n",
    "                             pd.DataFrame({'cluster_UMAP_HAC':y_hc}),\n",
    "                             pd.DataFrame({'cluster_UMAP_DBSCAN':y_dbscan}), \n",
    "                             pd.DataFrame({'cluster_UMAP_GMM':df_umap_cpy['Cluster_gmm']})], axis = 1)"
   ]
  },
  {
   "cell_type": "code",
   "execution_count": null,
   "metadata": {
    "colab": {
     "base_uri": "https://localhost:8080/",
     "height": 1000
    },
    "id": "_W21lbLBreVS",
    "outputId": "4a80ca06-f2f1-4121-b68c-426a07f7322b"
   },
   "outputs": [
    {
     "data": {
      "text/html": [
       "\n",
       "  <div id=\"df-be8bfc63-01ec-4164-a000-e2c4543d6386\">\n",
       "    <div class=\"colab-df-container\">\n",
       "      <div>\n",
       "<style scoped>\n",
       "    .dataframe tbody tr th:only-of-type {\n",
       "        vertical-align: middle;\n",
       "    }\n",
       "\n",
       "    .dataframe tbody tr th {\n",
       "        vertical-align: top;\n",
       "    }\n",
       "\n",
       "    .dataframe thead th {\n",
       "        text-align: right;\n",
       "    }\n",
       "</style>\n",
       "<table border=\"1\" class=\"dataframe\">\n",
       "  <thead>\n",
       "    <tr style=\"text-align: right;\">\n",
       "      <th></th>\n",
       "      <th>pseudonym</th>\n",
       "      <th>cluster_UMAP_KMeans</th>\n",
       "      <th>cluster_UMAP_HAC</th>\n",
       "      <th>cluster_UMAP_DBSCAN</th>\n",
       "      <th>cluster_UMAP_GMM</th>\n",
       "    </tr>\n",
       "  </thead>\n",
       "  <tbody>\n",
       "    <tr>\n",
       "      <th>0</th>\n",
       "      <td>0577770a</td>\n",
       "      <td>0</td>\n",
       "      <td>2</td>\n",
       "      <td>-1</td>\n",
       "      <td>0</td>\n",
       "    </tr>\n",
       "    <tr>\n",
       "      <th>1</th>\n",
       "      <td>10e5b7cd</td>\n",
       "      <td>0</td>\n",
       "      <td>2</td>\n",
       "      <td>-1</td>\n",
       "      <td>0</td>\n",
       "    </tr>\n",
       "    <tr>\n",
       "      <th>2</th>\n",
       "      <td>14103f09</td>\n",
       "      <td>1</td>\n",
       "      <td>0</td>\n",
       "      <td>-1</td>\n",
       "      <td>1</td>\n",
       "    </tr>\n",
       "    <tr>\n",
       "      <th>3</th>\n",
       "      <td>1d5d73b7</td>\n",
       "      <td>0</td>\n",
       "      <td>1</td>\n",
       "      <td>-1</td>\n",
       "      <td>0</td>\n",
       "    </tr>\n",
       "    <tr>\n",
       "      <th>4</th>\n",
       "      <td>2319ac8d</td>\n",
       "      <td>1</td>\n",
       "      <td>0</td>\n",
       "      <td>-1</td>\n",
       "      <td>0</td>\n",
       "    </tr>\n",
       "    <tr>\n",
       "      <th>5</th>\n",
       "      <td>2a8310f7</td>\n",
       "      <td>0</td>\n",
       "      <td>2</td>\n",
       "      <td>-1</td>\n",
       "      <td>0</td>\n",
       "    </tr>\n",
       "    <tr>\n",
       "      <th>6</th>\n",
       "      <td>2ac72c3c</td>\n",
       "      <td>1</td>\n",
       "      <td>0</td>\n",
       "      <td>-1</td>\n",
       "      <td>0</td>\n",
       "    </tr>\n",
       "    <tr>\n",
       "      <th>7</th>\n",
       "      <td>2b9ffa95</td>\n",
       "      <td>0</td>\n",
       "      <td>1</td>\n",
       "      <td>-1</td>\n",
       "      <td>0</td>\n",
       "    </tr>\n",
       "    <tr>\n",
       "      <th>8</th>\n",
       "      <td>32548257</td>\n",
       "      <td>0</td>\n",
       "      <td>1</td>\n",
       "      <td>-1</td>\n",
       "      <td>0</td>\n",
       "    </tr>\n",
       "    <tr>\n",
       "      <th>9</th>\n",
       "      <td>458409e7</td>\n",
       "      <td>0</td>\n",
       "      <td>1</td>\n",
       "      <td>-1</td>\n",
       "      <td>0</td>\n",
       "    </tr>\n",
       "    <tr>\n",
       "      <th>10</th>\n",
       "      <td>5523dcbd</td>\n",
       "      <td>1</td>\n",
       "      <td>0</td>\n",
       "      <td>-1</td>\n",
       "      <td>0</td>\n",
       "    </tr>\n",
       "    <tr>\n",
       "      <th>11</th>\n",
       "      <td>5c107aa6</td>\n",
       "      <td>1</td>\n",
       "      <td>0</td>\n",
       "      <td>-1</td>\n",
       "      <td>1</td>\n",
       "    </tr>\n",
       "    <tr>\n",
       "      <th>12</th>\n",
       "      <td>5ea80e56</td>\n",
       "      <td>0</td>\n",
       "      <td>1</td>\n",
       "      <td>-1</td>\n",
       "      <td>0</td>\n",
       "    </tr>\n",
       "    <tr>\n",
       "      <th>13</th>\n",
       "      <td>5f608111</td>\n",
       "      <td>0</td>\n",
       "      <td>2</td>\n",
       "      <td>-1</td>\n",
       "      <td>0</td>\n",
       "    </tr>\n",
       "    <tr>\n",
       "      <th>14</th>\n",
       "      <td>636823bb</td>\n",
       "      <td>1</td>\n",
       "      <td>0</td>\n",
       "      <td>-1</td>\n",
       "      <td>1</td>\n",
       "    </tr>\n",
       "    <tr>\n",
       "      <th>15</th>\n",
       "      <td>67bb66ce</td>\n",
       "      <td>1</td>\n",
       "      <td>0</td>\n",
       "      <td>-1</td>\n",
       "      <td>1</td>\n",
       "    </tr>\n",
       "    <tr>\n",
       "      <th>16</th>\n",
       "      <td>6a90e0a3</td>\n",
       "      <td>1</td>\n",
       "      <td>0</td>\n",
       "      <td>-1</td>\n",
       "      <td>1</td>\n",
       "    </tr>\n",
       "    <tr>\n",
       "      <th>17</th>\n",
       "      <td>6e1348df</td>\n",
       "      <td>1</td>\n",
       "      <td>0</td>\n",
       "      <td>-1</td>\n",
       "      <td>1</td>\n",
       "    </tr>\n",
       "    <tr>\n",
       "      <th>18</th>\n",
       "      <td>7ace3011</td>\n",
       "      <td>0</td>\n",
       "      <td>2</td>\n",
       "      <td>-1</td>\n",
       "      <td>0</td>\n",
       "    </tr>\n",
       "    <tr>\n",
       "      <th>19</th>\n",
       "      <td>7b42848c</td>\n",
       "      <td>0</td>\n",
       "      <td>1</td>\n",
       "      <td>-1</td>\n",
       "      <td>0</td>\n",
       "    </tr>\n",
       "    <tr>\n",
       "      <th>20</th>\n",
       "      <td>832a025c</td>\n",
       "      <td>0</td>\n",
       "      <td>1</td>\n",
       "      <td>-1</td>\n",
       "      <td>0</td>\n",
       "    </tr>\n",
       "    <tr>\n",
       "      <th>21</th>\n",
       "      <td>83be9668</td>\n",
       "      <td>1</td>\n",
       "      <td>0</td>\n",
       "      <td>-1</td>\n",
       "      <td>1</td>\n",
       "    </tr>\n",
       "    <tr>\n",
       "      <th>22</th>\n",
       "      <td>882c1329</td>\n",
       "      <td>1</td>\n",
       "      <td>0</td>\n",
       "      <td>-1</td>\n",
       "      <td>0</td>\n",
       "    </tr>\n",
       "    <tr>\n",
       "      <th>23</th>\n",
       "      <td>9d3a512b</td>\n",
       "      <td>1</td>\n",
       "      <td>0</td>\n",
       "      <td>-1</td>\n",
       "      <td>1</td>\n",
       "    </tr>\n",
       "    <tr>\n",
       "      <th>24</th>\n",
       "      <td>a25ce237</td>\n",
       "      <td>0</td>\n",
       "      <td>2</td>\n",
       "      <td>-1</td>\n",
       "      <td>1</td>\n",
       "    </tr>\n",
       "    <tr>\n",
       "      <th>25</th>\n",
       "      <td>a70f56fe</td>\n",
       "      <td>0</td>\n",
       "      <td>1</td>\n",
       "      <td>-1</td>\n",
       "      <td>0</td>\n",
       "    </tr>\n",
       "    <tr>\n",
       "      <th>26</th>\n",
       "      <td>a770dc61</td>\n",
       "      <td>1</td>\n",
       "      <td>0</td>\n",
       "      <td>-1</td>\n",
       "      <td>1</td>\n",
       "    </tr>\n",
       "    <tr>\n",
       "      <th>27</th>\n",
       "      <td>b58a162d</td>\n",
       "      <td>0</td>\n",
       "      <td>1</td>\n",
       "      <td>-1</td>\n",
       "      <td>0</td>\n",
       "    </tr>\n",
       "    <tr>\n",
       "      <th>28</th>\n",
       "      <td>bd3c35c8</td>\n",
       "      <td>0</td>\n",
       "      <td>1</td>\n",
       "      <td>-1</td>\n",
       "      <td>0</td>\n",
       "    </tr>\n",
       "    <tr>\n",
       "      <th>29</th>\n",
       "      <td>bd9f6c12</td>\n",
       "      <td>0</td>\n",
       "      <td>1</td>\n",
       "      <td>-1</td>\n",
       "      <td>0</td>\n",
       "    </tr>\n",
       "    <tr>\n",
       "      <th>30</th>\n",
       "      <td>bde3be6f</td>\n",
       "      <td>0</td>\n",
       "      <td>2</td>\n",
       "      <td>-1</td>\n",
       "      <td>1</td>\n",
       "    </tr>\n",
       "    <tr>\n",
       "      <th>31</th>\n",
       "      <td>c2af051c</td>\n",
       "      <td>1</td>\n",
       "      <td>0</td>\n",
       "      <td>-1</td>\n",
       "      <td>1</td>\n",
       "    </tr>\n",
       "    <tr>\n",
       "      <th>32</th>\n",
       "      <td>c5ad8b09</td>\n",
       "      <td>0</td>\n",
       "      <td>1</td>\n",
       "      <td>-1</td>\n",
       "      <td>0</td>\n",
       "    </tr>\n",
       "    <tr>\n",
       "      <th>33</th>\n",
       "      <td>c5e35e9f</td>\n",
       "      <td>1</td>\n",
       "      <td>0</td>\n",
       "      <td>-1</td>\n",
       "      <td>1</td>\n",
       "    </tr>\n",
       "    <tr>\n",
       "      <th>34</th>\n",
       "      <td>ceb7fed9</td>\n",
       "      <td>1</td>\n",
       "      <td>0</td>\n",
       "      <td>-1</td>\n",
       "      <td>1</td>\n",
       "    </tr>\n",
       "    <tr>\n",
       "      <th>35</th>\n",
       "      <td>d50c3300</td>\n",
       "      <td>1</td>\n",
       "      <td>0</td>\n",
       "      <td>-1</td>\n",
       "      <td>1</td>\n",
       "    </tr>\n",
       "    <tr>\n",
       "      <th>36</th>\n",
       "      <td>dd15fbe7</td>\n",
       "      <td>0</td>\n",
       "      <td>1</td>\n",
       "      <td>-1</td>\n",
       "      <td>0</td>\n",
       "    </tr>\n",
       "    <tr>\n",
       "      <th>37</th>\n",
       "      <td>ebe9d7c3</td>\n",
       "      <td>0</td>\n",
       "      <td>2</td>\n",
       "      <td>-1</td>\n",
       "      <td>1</td>\n",
       "    </tr>\n",
       "    <tr>\n",
       "      <th>38</th>\n",
       "      <td>f2e684e9</td>\n",
       "      <td>0</td>\n",
       "      <td>2</td>\n",
       "      <td>-1</td>\n",
       "      <td>0</td>\n",
       "    </tr>\n",
       "    <tr>\n",
       "      <th>39</th>\n",
       "      <td>f4cb3b17</td>\n",
       "      <td>1</td>\n",
       "      <td>0</td>\n",
       "      <td>-1</td>\n",
       "      <td>0</td>\n",
       "    </tr>\n",
       "    <tr>\n",
       "      <th>40</th>\n",
       "      <td>fb6f0175</td>\n",
       "      <td>0</td>\n",
       "      <td>1</td>\n",
       "      <td>-1</td>\n",
       "      <td>0</td>\n",
       "    </tr>\n",
       "    <tr>\n",
       "      <th>41</th>\n",
       "      <td>ffbe3f52</td>\n",
       "      <td>1</td>\n",
       "      <td>0</td>\n",
       "      <td>-1</td>\n",
       "      <td>0</td>\n",
       "    </tr>\n",
       "  </tbody>\n",
       "</table>\n",
       "</div>\n",
       "      <button class=\"colab-df-convert\" onclick=\"convertToInteractive('df-be8bfc63-01ec-4164-a000-e2c4543d6386')\"\n",
       "              title=\"Convert this dataframe to an interactive table.\"\n",
       "              style=\"display:none;\">\n",
       "        \n",
       "  <svg xmlns=\"http://www.w3.org/2000/svg\" height=\"24px\"viewBox=\"0 0 24 24\"\n",
       "       width=\"24px\">\n",
       "    <path d=\"M0 0h24v24H0V0z\" fill=\"none\"/>\n",
       "    <path d=\"M18.56 5.44l.94 2.06.94-2.06 2.06-.94-2.06-.94-.94-2.06-.94 2.06-2.06.94zm-11 1L8.5 8.5l.94-2.06 2.06-.94-2.06-.94L8.5 2.5l-.94 2.06-2.06.94zm10 10l.94 2.06.94-2.06 2.06-.94-2.06-.94-.94-2.06-.94 2.06-2.06.94z\"/><path d=\"M17.41 7.96l-1.37-1.37c-.4-.4-.92-.59-1.43-.59-.52 0-1.04.2-1.43.59L10.3 9.45l-7.72 7.72c-.78.78-.78 2.05 0 2.83L4 21.41c.39.39.9.59 1.41.59.51 0 1.02-.2 1.41-.59l7.78-7.78 2.81-2.81c.8-.78.8-2.07 0-2.86zM5.41 20L4 18.59l7.72-7.72 1.47 1.35L5.41 20z\"/>\n",
       "  </svg>\n",
       "      </button>\n",
       "      \n",
       "  <style>\n",
       "    .colab-df-container {\n",
       "      display:flex;\n",
       "      flex-wrap:wrap;\n",
       "      gap: 12px;\n",
       "    }\n",
       "\n",
       "    .colab-df-convert {\n",
       "      background-color: #E8F0FE;\n",
       "      border: none;\n",
       "      border-radius: 50%;\n",
       "      cursor: pointer;\n",
       "      display: none;\n",
       "      fill: #1967D2;\n",
       "      height: 32px;\n",
       "      padding: 0 0 0 0;\n",
       "      width: 32px;\n",
       "    }\n",
       "\n",
       "    .colab-df-convert:hover {\n",
       "      background-color: #E2EBFA;\n",
       "      box-shadow: 0px 1px 2px rgba(60, 64, 67, 0.3), 0px 1px 3px 1px rgba(60, 64, 67, 0.15);\n",
       "      fill: #174EA6;\n",
       "    }\n",
       "\n",
       "    [theme=dark] .colab-df-convert {\n",
       "      background-color: #3B4455;\n",
       "      fill: #D2E3FC;\n",
       "    }\n",
       "\n",
       "    [theme=dark] .colab-df-convert:hover {\n",
       "      background-color: #434B5C;\n",
       "      box-shadow: 0px 1px 3px 1px rgba(0, 0, 0, 0.15);\n",
       "      filter: drop-shadow(0px 1px 2px rgba(0, 0, 0, 0.3));\n",
       "      fill: #FFFFFF;\n",
       "    }\n",
       "  </style>\n",
       "\n",
       "      <script>\n",
       "        const buttonEl =\n",
       "          document.querySelector('#df-be8bfc63-01ec-4164-a000-e2c4543d6386 button.colab-df-convert');\n",
       "        buttonEl.style.display =\n",
       "          google.colab.kernel.accessAllowed ? 'block' : 'none';\n",
       "\n",
       "        async function convertToInteractive(key) {\n",
       "          const element = document.querySelector('#df-be8bfc63-01ec-4164-a000-e2c4543d6386');\n",
       "          const dataTable =\n",
       "            await google.colab.kernel.invokeFunction('convertToInteractive',\n",
       "                                                     [key], {});\n",
       "          if (!dataTable) return;\n",
       "\n",
       "          const docLinkHtml = 'Like what you see? Visit the ' +\n",
       "            '<a target=\"_blank\" href=https://colab.research.google.com/notebooks/data_table.ipynb>data table notebook</a>'\n",
       "            + ' to learn more about interactive tables.';\n",
       "          element.innerHTML = '';\n",
       "          dataTable['output_type'] = 'display_data';\n",
       "          await google.colab.output.renderOutput(dataTable, element);\n",
       "          const docLink = document.createElement('div');\n",
       "          docLink.innerHTML = docLinkHtml;\n",
       "          element.appendChild(docLink);\n",
       "        }\n",
       "      </script>\n",
       "    </div>\n",
       "  </div>\n",
       "  "
      ],
      "text/plain": [
       "   pseudonym  cluster_UMAP_KMeans  cluster_UMAP_HAC  cluster_UMAP_DBSCAN  \\\n",
       "0   0577770a                    0                 2                   -1   \n",
       "1   10e5b7cd                    0                 2                   -1   \n",
       "2   14103f09                    1                 0                   -1   \n",
       "3   1d5d73b7                    0                 1                   -1   \n",
       "4   2319ac8d                    1                 0                   -1   \n",
       "5   2a8310f7                    0                 2                   -1   \n",
       "6   2ac72c3c                    1                 0                   -1   \n",
       "7   2b9ffa95                    0                 1                   -1   \n",
       "8   32548257                    0                 1                   -1   \n",
       "9   458409e7                    0                 1                   -1   \n",
       "10  5523dcbd                    1                 0                   -1   \n",
       "11  5c107aa6                    1                 0                   -1   \n",
       "12  5ea80e56                    0                 1                   -1   \n",
       "13  5f608111                    0                 2                   -1   \n",
       "14  636823bb                    1                 0                   -1   \n",
       "15  67bb66ce                    1                 0                   -1   \n",
       "16  6a90e0a3                    1                 0                   -1   \n",
       "17  6e1348df                    1                 0                   -1   \n",
       "18  7ace3011                    0                 2                   -1   \n",
       "19  7b42848c                    0                 1                   -1   \n",
       "20  832a025c                    0                 1                   -1   \n",
       "21  83be9668                    1                 0                   -1   \n",
       "22  882c1329                    1                 0                   -1   \n",
       "23  9d3a512b                    1                 0                   -1   \n",
       "24  a25ce237                    0                 2                   -1   \n",
       "25  a70f56fe                    0                 1                   -1   \n",
       "26  a770dc61                    1                 0                   -1   \n",
       "27  b58a162d                    0                 1                   -1   \n",
       "28  bd3c35c8                    0                 1                   -1   \n",
       "29  bd9f6c12                    0                 1                   -1   \n",
       "30  bde3be6f                    0                 2                   -1   \n",
       "31  c2af051c                    1                 0                   -1   \n",
       "32  c5ad8b09                    0                 1                   -1   \n",
       "33  c5e35e9f                    1                 0                   -1   \n",
       "34  ceb7fed9                    1                 0                   -1   \n",
       "35  d50c3300                    1                 0                   -1   \n",
       "36  dd15fbe7                    0                 1                   -1   \n",
       "37  ebe9d7c3                    0                 2                   -1   \n",
       "38  f2e684e9                    0                 2                   -1   \n",
       "39  f4cb3b17                    1                 0                   -1   \n",
       "40  fb6f0175                    0                 1                   -1   \n",
       "41  ffbe3f52                    1                 0                   -1   \n",
       "\n",
       "    cluster_UMAP_GMM  \n",
       "0                  0  \n",
       "1                  0  \n",
       "2                  1  \n",
       "3                  0  \n",
       "4                  0  \n",
       "5                  0  \n",
       "6                  0  \n",
       "7                  0  \n",
       "8                  0  \n",
       "9                  0  \n",
       "10                 0  \n",
       "11                 1  \n",
       "12                 0  \n",
       "13                 0  \n",
       "14                 1  \n",
       "15                 1  \n",
       "16                 1  \n",
       "17                 1  \n",
       "18                 0  \n",
       "19                 0  \n",
       "20                 0  \n",
       "21                 1  \n",
       "22                 0  \n",
       "23                 1  \n",
       "24                 1  \n",
       "25                 0  \n",
       "26                 1  \n",
       "27                 0  \n",
       "28                 0  \n",
       "29                 0  \n",
       "30                 1  \n",
       "31                 1  \n",
       "32                 0  \n",
       "33                 1  \n",
       "34                 1  \n",
       "35                 1  \n",
       "36                 0  \n",
       "37                 1  \n",
       "38                 0  \n",
       "39                 0  \n",
       "40                 0  \n",
       "41                 0  "
      ]
     },
     "execution_count": 40,
     "metadata": {},
     "output_type": "execute_result"
    }
   ],
   "source": [
    "cluster_assigned"
   ]
  },
  {
   "cell_type": "code",
   "execution_count": null,
   "metadata": {
    "colab": {
     "base_uri": "https://localhost:8080/",
     "height": 17
    },
    "id": "Yv6KEDXorfeq",
    "outputId": "d0a86707-2e30-48c0-ee6a-fd1d044ee1b5"
   },
   "outputs": [
    {
     "data": {
      "application/javascript": [
       "\n",
       "    async function download(id, filename, size) {\n",
       "      if (!google.colab.kernel.accessAllowed) {\n",
       "        return;\n",
       "      }\n",
       "      const div = document.createElement('div');\n",
       "      const label = document.createElement('label');\n",
       "      label.textContent = `Downloading \"${filename}\": `;\n",
       "      div.appendChild(label);\n",
       "      const progress = document.createElement('progress');\n",
       "      progress.max = size;\n",
       "      div.appendChild(progress);\n",
       "      document.body.appendChild(div);\n",
       "\n",
       "      const buffers = [];\n",
       "      let downloaded = 0;\n",
       "\n",
       "      const channel = await google.colab.kernel.comms.open(id);\n",
       "      // Send a message to notify the kernel that we're ready.\n",
       "      channel.send({})\n",
       "\n",
       "      for await (const message of channel.messages) {\n",
       "        // Send a message to notify the kernel that we're ready.\n",
       "        channel.send({})\n",
       "        if (message.buffers) {\n",
       "          for (const buffer of message.buffers) {\n",
       "            buffers.push(buffer);\n",
       "            downloaded += buffer.byteLength;\n",
       "            progress.value = downloaded;\n",
       "          }\n",
       "        }\n",
       "      }\n",
       "      const blob = new Blob(buffers, {type: 'application/binary'});\n",
       "      const a = document.createElement('a');\n",
       "      a.href = window.URL.createObjectURL(blob);\n",
       "      a.download = filename;\n",
       "      div.appendChild(a);\n",
       "      a.click();\n",
       "      div.remove();\n",
       "    }\n",
       "  "
      ],
      "text/plain": [
       "<IPython.core.display.Javascript object>"
      ]
     },
     "metadata": {},
     "output_type": "display_data"
    },
    {
     "data": {
      "application/javascript": [
       "download(\"download_0533e4a6-96b1-4a3d-86af-12160766c680\", \"cluster_assigned_umap.csv\", 957)"
      ],
      "text/plain": [
       "<IPython.core.display.Javascript object>"
      ]
     },
     "metadata": {},
     "output_type": "display_data"
    }
   ],
   "source": [
    "cluster_assigned.to_csv('cluster_assigned_umap.csv')\n",
    "files.download('cluster_assigned_umap.csv')"
   ]
  }
 ],
 "metadata": {
  "colab": {
   "name": "Copy of UMAP_clustering.ipynb",
   "provenance": []
  },
  "kernelspec": {
   "display_name": "Python 3",
   "language": "python",
   "name": "python3"
  },
  "language_info": {
   "codemirror_mode": {
    "name": "ipython",
    "version": 3
   },
   "file_extension": ".py",
   "mimetype": "text/x-python",
   "name": "python",
   "nbconvert_exporter": "python",
   "pygments_lexer": "ipython3",
   "version": "3.8.3"
  }
 },
 "nbformat": 4,
 "nbformat_minor": 1
}
